{
 "cells": [
  {
   "cell_type": "code",
   "execution_count": null,
   "metadata": {},
   "outputs": [],
   "source": [
    "import numpy as np\n",
    "import matplotlib\n",
    "import matplotlib.pyplot as plt"
   ]
  },
  {
   "cell_type": "code",
   "execution_count": null,
   "metadata": {},
   "outputs": [],
   "source": [
    "import pickle\n",
    "import os"
   ]
  },
  {
   "cell_type": "code",
   "execution_count": null,
   "metadata": {},
   "outputs": [],
   "source": [
    "matplotlib.rc('text', usetex=True)\n",
    "matplotlib.rcParams['figure.dpi'] = 200"
   ]
  },
  {
   "cell_type": "code",
   "execution_count": null,
   "metadata": {},
   "outputs": [],
   "source": [
    "mmd_path = '../mmd/losses/'\n",
    "elbo_path = '../elbo/losses/'"
   ]
  },
  {
   "cell_type": "code",
   "execution_count": null,
   "metadata": {},
   "outputs": [],
   "source": [
    "mmd_losses = {}\n",
    "elbo_losses = {}"
   ]
  },
  {
   "cell_type": "code",
   "execution_count": null,
   "metadata": {},
   "outputs": [],
   "source": [
    "for file in os.listdir(mmd_path):\n",
    "    with open(os.path.join(mmd_path, file), 'rb') as f:\n",
    "        coeff = int(float(file.split('_')[2]))\n",
    "        zdim = int(file.split('_')[4])\n",
    "        if coeff not in mmd_losses:\n",
    "            mmd_losses[coeff] = {}\n",
    "        if zdim not in mmd_losses[coeff]:\n",
    "            mmd_losses[coeff][zdim] = None\n",
    "        mmd_losses[coeff][zdim] = pickle.load(f)\n",
    "        \n",
    "for file in os.listdir(elbo_path):\n",
    "    with open(os.path.join(elbo_path, file), 'rb') as f:\n",
    "        coeff = int(float(file.split('_')[2]))\n",
    "        zdim = int(file.split('_')[4])\n",
    "        if coeff not in elbo_losses:\n",
    "            elbo_losses[coeff] = {}\n",
    "        if zdim not in elbo_losses[coeff]:\n",
    "            elbo_losses[coeff][zdim] = None\n",
    "        elbo_losses[coeff][zdim] = pickle.load(f)"
   ]
  },
  {
   "cell_type": "code",
   "execution_count": null,
   "metadata": {},
   "outputs": [],
   "source": [
    "for coeff in sorted(mmd_losses):\n",
    "    plt.plot([mmd_losses[coeff][zdim]['kl'][-1] for zdim in sorted(mmd_losses[coeff].keys())])"
   ]
  },
  {
   "cell_type": "code",
   "execution_count": null,
   "metadata": {},
   "outputs": [],
   "source": [
    "mmd ={}\n",
    "for zdim in sorted(mmd_losses[1]):\n",
    "    print(zdim)\n",
    "    tmp = [mmd_losses[coeff][zdim]['kl'][-1] for coeff in sorted(mmd_losses)]\n",
    "    mmd[zdim] = tmp"
   ]
  },
  {
   "cell_type": "code",
   "execution_count": null,
   "metadata": {},
   "outputs": [],
   "source": [
    "fig, ax = plt.subplots()\n",
    "for coeff in mmd_losses:\n",
    "    plt.plot(sorted(mmd_losses[1].keys()),\n",
    "             [mmd_losses[coeff][zdim]['kl'][-1] for zdim in sorted(mmd_losses[coeff].keys())])\n",
    "    \n",
    "# ax.yaxis.set_major_formatter(matplotlib.ticker.FormatStrFormatter('%.2e?'))\n",
    "plt.legend(sorted(mmd_losses.keys()), title=r'$\\lambda$')\n",
    "plt.xlabel('Latent dimension')\n",
    "plt.ylabel('MMD distance')\n",
    "plt.savefig('mmd_vs_zdim_betavae.png')"
   ]
  },
  {
   "cell_type": "code",
   "execution_count": null,
   "metadata": {},
   "outputs": [],
   "source": []
  }
 ],
 "metadata": {
  "kernelspec": {
   "display_name": "Python 3",
   "language": "python",
   "name": "python3"
  },
  "language_info": {
   "codemirror_mode": {
    "name": "ipython",
    "version": 3
   },
   "file_extension": ".py",
   "mimetype": "text/x-python",
   "name": "python",
   "nbconvert_exporter": "python",
   "pygments_lexer": "ipython3",
   "version": "3.6.8"
  }
 },
 "nbformat": 4,
 "nbformat_minor": 2
}
