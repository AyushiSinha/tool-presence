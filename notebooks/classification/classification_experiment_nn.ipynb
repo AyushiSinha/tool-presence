{
 "cells": [
  {
   "cell_type": "markdown",
   "metadata": {},
   "source": [
    "## Testing binary classification with fully-connected neural network"
   ]
  },
  {
   "cell_type": "code",
   "execution_count": null,
   "metadata": {},
   "outputs": [],
   "source": [
    "import sys\n",
    "import os\n",
    "\n",
    "module_path = os.path.abspath(os.path.join('../..'))\n",
    "if module_path not in sys.path:\n",
    "    sys.path.append(module_path)\n",
    "    \n",
    "from src import constants as c\n",
    "from src.model import VAE\n",
    "from src import visualization as v"
   ]
  },
  {
   "cell_type": "code",
   "execution_count": null,
   "metadata": {},
   "outputs": [],
   "source": [
    "from matplotlib import pyplot as plt\n",
    "from mpl_toolkits.mplot3d import Axes3D\n",
    "import numpy as np\n",
    "import pandas as pd\n",
    "from sklearn import decomposition, manifold\n",
    "\n",
    "from tqdm import tqdm, tnrange, tqdm_notebook\n",
    "\n",
    "import torch\n",
    "from torchvision import datasets, transforms\n",
    "import torch.nn as nn"
   ]
  },
  {
   "cell_type": "code",
   "execution_count": null,
   "metadata": {},
   "outputs": [],
   "source": [
    "data_transforms = transforms.Compose([\n",
    "    transforms.Resize(c.image_size),\n",
    "    transforms.CenterCrop(c.image_size),\n",
    "    transforms.ToTensor()\n",
    "])\n",
    "\n",
    "image_datasets = {x: datasets.ImageFolder(os.path.join(c.data_home, 'surgical_data/',x),\n",
    "                                          data_transforms)\n",
    "                  for x in ['train', 'val']}\n",
    "dataloaders = {x: torch.utils.data.DataLoader(image_datasets[x], \n",
    "                                              batch_size=c.batch_size,\n",
    "                                              shuffle=True)\n",
    "               for x in ['train', 'val']}"
   ]
  },
  {
   "cell_type": "markdown",
   "metadata": {},
   "source": [
    "## Import VAE to generate encodings"
   ]
  },
  {
   "cell_type": "code",
   "execution_count": null,
   "metadata": {},
   "outputs": [],
   "source": [
    "models = {zdim: VAE(image_channels=c.image_channels,\n",
    "                    image_size=c.image_size, \n",
    "                    h_dim1=1024,\n",
    "                    h_dim2=128,\n",
    "                    zdim=zdim).to(c.device) for zdim in [10]}\n",
    "\n",
    "for zdim, model in models.items():\n",
    "    model.load_state_dict(torch.load(c.data_home + \"weights/tools_vae_{}_epoch_50_zdim_{}.torch\".format(c.image_size,\n",
    "                                                                                                        zdim)))"
   ]
  },
  {
   "cell_type": "code",
   "execution_count": null,
   "metadata": {},
   "outputs": [],
   "source": [
    "labels = pd.read_csv(os.path.join(c.data_home, 'surgical_data/', 'surgical_labels.csv'))"
   ]
  },
  {
   "cell_type": "code",
   "execution_count": null,
   "metadata": {},
   "outputs": [],
   "source": [
    "encoded_inputs = {zdim: [] for zdim in [10]}\n",
    "\n",
    "with torch.no_grad():\n",
    "    for zdim in tqdm_notebook(encoded_inputs):\n",
    "        for index in tnrange(len(image_datasets['train'])):\n",
    "            data = image_datasets['train'][index][0].view(-1, c.image_channels, c.image_size, c.image_size).to(c.device)\n",
    "            latent_vector = models[zdim].sampling(*models[zdim].encode(data)).cpu().detach().numpy()\n",
    "            encoded_inputs[zdim].extend([ar[0] for ar in np.split(latent_vector, data.shape[0])])\n",
    "            \n",
    "        for index in tnrange(len(image_datasets['val'])):\n",
    "            data = image_datasets['val'][index][0].view(-1, c.image_channels, c.image_size, c.image_size).to(c.device)\n",
    "            latent_vector = models[zdim].sampling(*models[zdim].encode(data)).cpu().detach().numpy()\n",
    "            encoded_inputs[zdim].extend([ar[0] for ar in np.split(latent_vector, data.shape[0])])"
   ]
  },
  {
   "cell_type": "code",
   "execution_count": null,
   "metadata": {},
   "outputs": [],
   "source": [
    "dataframes = {zdim: pd.concat([pd.DataFrame(encoded_inputs[zdim]), labels], axis=1) for zdim in [10]}\n",
    "latent_space = pd.concat(dataframes)"
   ]
  },
  {
   "cell_type": "code",
   "execution_count": null,
   "metadata": {},
   "outputs": [],
   "source": [
    "class LatentSpaceClassifier(nn.Module):\n",
    "    def __init__(self, zdim, hdim1, hdim2):\n",
    "        super(LatentSpaceClassifier, self).__init__()\n",
    "        self.fc1 = nn.Linear(zdim, hdim1)\n",
    "        self.fc2 = nn.Linear(hdim1, hdim2)\n",
    "        self.fc3 = nn.Linear(hdim2, 2)\n",
    "        \n",
    "    def forward(self, x):\n",
    "        x = F.relu(self.fc1(x))\n",
    "        x = F.relu(self.fc2(x))\n",
    "        x = self.fc3(x)\n",
    "        return F.log_softmax(x)"
   ]
  },
  {
   "cell_type": "code",
   "execution_count": null,
   "metadata": {},
   "outputs": [],
   "source": [
    "clf = LatentSpaceClassifier(10, 100, 50).to(c.device)"
   ]
  },
  {
   "cell_type": "code",
   "execution_count": null,
   "metadata": {},
   "outputs": [],
   "source": [
    "optimizer = torch.optim.SGD(clf.parameters(), lr=1e-3, momentum=0.9)\n",
    "# create a loss function\n",
    "criterion = nn.NLLLoss()"
   ]
  },
  {
   "cell_type": "code",
   "execution_count": null,
   "metadata": {},
   "outputs": [],
   "source": [
    "for epoch in range(epochs):\n",
    "    for batch_idx, (data, target) in enumerate(train_loader):\n",
    "        data, target = Variable(data), Variable(target)\n",
    "        # resize data from (batch_size, 1, 28, 28) to (batch_size, 28*28)\n",
    "        data = data.view(-1, 28*28)\n",
    "        optimizer.zero_grad()\n",
    "        net_out = net(data)\n",
    "        loss = criterion(net_out, target)\n",
    "        loss.backward()\n",
    "        optimizer.step()\n",
    "        if batch_idx % log_interval == 0:\n",
    "            print('Train Epoch: {} [{}/{} ({:.0f}%)]\\tLoss: {:.6f}'.format(\n",
    "                    epoch, batch_idx * len(data), len(train_loader.dataset),\n",
    "                           100. * batch_idx / len(train_loader), loss.data[0]))"
   ]
  }
 ],
 "metadata": {
  "kernelspec": {
   "display_name": "Python 3",
   "language": "python",
   "name": "python3"
  },
  "language_info": {
   "codemirror_mode": {
    "name": "ipython",
    "version": 3
   },
   "file_extension": ".py",
   "mimetype": "text/x-python",
   "name": "python",
   "nbconvert_exporter": "python",
   "pygments_lexer": "ipython3",
   "version": "3.6.5"
  }
 },
 "nbformat": 4,
 "nbformat_minor": 2
}
