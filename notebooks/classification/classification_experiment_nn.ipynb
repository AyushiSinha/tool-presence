{
 "cells": [
  {
   "cell_type": "markdown",
   "metadata": {},
   "source": [
    "## Testing binary classification with fully-connected neural network"
   ]
  },
  {
   "cell_type": "code",
   "execution_count": null,
   "metadata": {},
   "outputs": [],
   "source": [
    "import sys\n",
    "import os\n",
    "\n",
    "module_path = os.path.abspath(os.path.join('../..'))\n",
    "if module_path not in sys.path:\n",
    "    sys.path.append(module_path)\n",
    "    \n",
    "from src import constants as c\n",
    "from src.model import VAE\n",
    "from src import visualization as v"
   ]
  },
  {
   "cell_type": "code",
   "execution_count": null,
   "metadata": {},
   "outputs": [],
   "source": [
    "from matplotlib import pyplot as plt\n",
    "from mpl_toolkits.mplot3d import Axes3D\n",
    "import numpy as np\n",
    "import pandas as pd\n",
    "from sklearn import decomposition, manifold\n",
    "\n",
    "from tqdm import tqdm, tnrange, tqdm_notebook\n",
    "\n",
    "import torch\n",
    "from torchvision import datasets, transforms\n",
    "import torch.nn as nn\n",
    "import torch.nn.functional as F"
   ]
  },
  {
   "cell_type": "code",
   "execution_count": null,
   "metadata": {},
   "outputs": [],
   "source": [
    "data_transforms = transforms.Compose([\n",
    "    transforms.Resize(c.image_size),\n",
    "    transforms.CenterCrop(c.image_size),\n",
    "    transforms.ToTensor()\n",
    "])\n",
    "\n",
    "image_datasets = {x: datasets.ImageFolder(os.path.join(c.data_home, 'surgical_data/',x),\n",
    "                                          data_transforms)\n",
    "                  for x in ['train', 'val']}\n",
    "dataloaders = {x: torch.utils.data.DataLoader(image_datasets[x], \n",
    "                                              batch_size=c.batch_size,\n",
    "                                              shuffle=True)\n",
    "               for x in ['train', 'val']}"
   ]
  },
  {
   "cell_type": "markdown",
   "metadata": {},
   "source": [
    "## Import VAE to generate encodings"
   ]
  },
  {
   "cell_type": "code",
   "execution_count": null,
   "metadata": {},
   "outputs": [],
   "source": [
    "models = {zdim: VAE(image_channels=c.image_channels,\n",
    "                    image_size=c.image_size, \n",
    "                    h_dim1=1024,\n",
    "                    h_dim2=128,\n",
    "                    zdim=zdim).to(c.device) for zdim in [10]}\n",
    "\n",
    "for zdim, model in models.items():\n",
    "    model.load_state_dict(torch.load(c.data_home + \"weights/tools_vae_{}_epoch_50_zdim_{}.torch\".format(c.image_size,\n",
    "                                                                                                        zdim)))"
   ]
  },
  {
   "cell_type": "code",
   "execution_count": null,
   "metadata": {},
   "outputs": [],
   "source": [
    "train_labels = pd.read_csv(os.path.join(c.data_home, 'surgical_data/train/', 'labels.csv'), names=['Frame', 'Tool'])\n",
    "val_labels = pd.read_csv(os.path.join(c.data_home, 'surgical_data/val/', 'labels.csv'),  names=['Frame', 'Tool'])"
   ]
  },
  {
   "cell_type": "code",
   "execution_count": null,
   "metadata": {},
   "outputs": [],
   "source": [
    "encoded_inputs = {zdim: {'train':[], 'val':[]} for zdim in [10]}\n",
    "\n",
    "with torch.no_grad():\n",
    "    for zdim in tqdm_notebook(encoded_inputs):\n",
    "        for index in tnrange(len(image_datasets['train'])):\n",
    "            data = image_datasets['train'][index][0].view(-1, c.image_channels, c.image_size, c.image_size).to(c.device)\n",
    "            latent_vector = models[zdim].sampling(*models[zdim].encode(data)).cpu().detach().numpy()\n",
    "            encoded_inputs[zdim]['train'].extend([ar[0] for ar in np.split(latent_vector, data.shape[0])])\n",
    "            \n",
    "        for index in tnrange(len(image_datasets['val'])):\n",
    "            data = image_datasets['val'][index][0].view(-1, c.image_channels, c.image_size, c.image_size).to(c.device)\n",
    "            latent_vector = models[zdim].sampling(*models[zdim].encode(data)).cpu().detach().numpy()\n",
    "            encoded_inputs[zdim]['val'].extend([ar[0] for ar in np.split(latent_vector, data.shape[0])])"
   ]
  },
  {
   "cell_type": "code",
   "execution_count": null,
   "metadata": {},
   "outputs": [],
   "source": [
    "train_df = pd.concat([pd.DataFrame(encoded_inputs[10]['train']), train_labels],axis=1)\n",
    "train_df.drop(columns=['Frame'], inplace=True)\n",
    "train_df = train_df.dropna()\n",
    "train_df"
   ]
  },
  {
   "cell_type": "code",
   "execution_count": null,
   "metadata": {},
   "outputs": [],
   "source": [
    "val_df = pd.concat([pd.DataFrame(encoded_inputs[10]['val']), val_labels],axis=1)\n",
    "val_df.drop(columns=['Frame'], inplace=True)\n",
    "val_df = val_df.dropna()\n",
    "val_df"
   ]
  },
  {
   "cell_type": "code",
   "execution_count": null,
   "metadata": {},
   "outputs": [],
   "source": [
    "train_dataset = torch.utils.data.TensorDataset(torch.Tensor(np.array(train_df, dtype=np.float32)), \n",
    "                                               torch.Tensor(np.array(train_target)))\n",
    "val_dataset = torch.utils.data.TensorDataset(torch.Tensor(np.array(val_df, dtype=np.float32)), \n",
    "                                               torch.Tensor(np.array(val_target)))\n",
    "\n",
    "train_loader = torch.utils.data.DataLoader(train_dataset, \n",
    "                                          batch_size=64, \n",
    "                                          shuffle=True)\n",
    "val_loader = torch.utils.data.DataLoader(val_dataset, \n",
    "                                        batch_size=64, \n",
    "                                        shuffle=True)"
   ]
  },
  {
   "cell_type": "code",
   "execution_count": null,
   "metadata": {},
   "outputs": [],
   "source": [
    "class LatentSpaceClassifier(nn.Module):\n",
    "    def __init__(self, zdim, hdim1, hdim2):\n",
    "        super(LatentSpaceClassifier, self).__init__()\n",
    "        self.fc1 = nn.Linear(zdim, hdim1)\n",
    "        self.fc2 = nn.Linear(hdim1, hdim2)\n",
    "        self.fc3 = nn.Linear(hdim2, 2)\n",
    "        \n",
    "    def forward(self, x):\n",
    "        # Using dropout to counter possible overfitting\n",
    "        x = F.relu(self.fc1(x))\n",
    "        x = F.relu(F.dropout(self.fc2(x)))\n",
    "        x = self.fc3(x)\n",
    "        return F.log_softmax(x, dim=1)"
   ]
  },
  {
   "cell_type": "code",
   "execution_count": null,
   "metadata": {},
   "outputs": [],
   "source": [
    "clf = LatentSpaceClassifier(10, 20, 5).to(c.device)\n",
    "\n",
    "optimizer = torch.optim.SGD(clf.parameters(), lr=1e-3, momentum=0.9)\n",
    "# create a loss function\n",
    "criterion = nn.NLLLoss()\n",
    "\n",
    "\n",
    "\n",
    "\n",
    "def train():\n",
    "    train_correct = 0\n",
    "    train_total = 0\n",
    "    for (data, target) in train_loader:\n",
    "        data, target = torch.autograd.Variable(data).to(c.device), torch.autograd.Variable(target).to(c.device)\n",
    "        target = target.long()\n",
    "        optimizer.zero_grad()\n",
    "        \n",
    "        output = clf(data)\n",
    "        \n",
    "        _, predicted = torch.max(output.data, 1)\n",
    "        train_total += target.size(0)\n",
    "        train_correct += (predicted == target).sum().item()\n",
    "            \n",
    "        loss = criterion(output, target)\n",
    "        loss.backward()\n",
    "        optimizer.step()\n",
    "        \n",
    "    tqdm.write('Train Epoch: {} \\tLoss: {:.6f}\\tTraining Accuracy: {:.3f}%'.format(epoch, loss.item(), 100*train_correct/train_total))\n",
    "\n",
    "    return (loss.item(), train_correct/train_total)\n",
    "\n",
    "    \n",
    "def test():\n",
    "    correct = 0\n",
    "    total = 0\n",
    "    with torch.no_grad():\n",
    "        for (data, target) in val_loader:\n",
    "            output = clf(data.to(c.device))\n",
    "            loss = criterion(output, target.to(c.device).long())\n",
    "            \n",
    "            _, predicted = torch.max(output.data, 1)\n",
    "            total += target.size(0)\n",
    "            correct += (predicted == target.to(c.device).long()).sum().item()\n",
    "    \n",
    "    tqdm.write('Epoch: {}\\tValidation Accuracy: {:.3f}%'.format(epoch, 100 * correct / total))\n",
    "\n",
    "    return (loss.item(), correct/total)\n",
    "\n",
    "\n",
    "train_losses = []\n",
    "train_accuracies = []\n",
    "val_losses = []\n",
    "val_accuracies = []   \n",
    "for epoch in tnrange(150):\n",
    "    train_loss, train_acc = train()\n",
    "    val_loss, val_acc = test()\n",
    "    \n",
    "    train_losses.append(train_loss)\n",
    "    train_accuracies.append(train_acc)\n",
    "    val_losses.append(val_loss)\n",
    "    val_accuracies.append(val_acc)"
   ]
  },
  {
   "cell_type": "code",
   "execution_count": null,
   "metadata": {},
   "outputs": [],
   "source": [
    "fig, ax = plt.subplots(2,2, figsize=(10,10))\n",
    "ax[0,0].plot(train_losses)\n",
    "ax[0,0].set_title(\"Training Loss\")\n",
    "\n",
    "ax[0,1].plot(train_accuracies)\n",
    "ax[0,1].set_title(\"Training Accuracy\")\n",
    "\n",
    "ax[1,0].plot(val_losses)\n",
    "ax[1,0].set_title(\"Validation Loss\")\n",
    "\n",
    "ax[1,1].plot(val_accuracies)\n",
    "ax[1,1].set_title(\"Validation Accuracy\")"
   ]
  },
  {
   "cell_type": "code",
   "execution_count": null,
   "metadata": {},
   "outputs": [],
   "source": []
  }
 ],
 "metadata": {
  "kernelspec": {
   "display_name": "Python 3",
   "language": "python",
   "name": "python3"
  },
  "language_info": {
   "codemirror_mode": {
    "name": "ipython",
    "version": 3
   },
   "file_extension": ".py",
   "mimetype": "text/x-python",
   "name": "python",
   "nbconvert_exporter": "python",
   "pygments_lexer": "ipython3",
   "version": "3.6.5"
  }
 },
 "nbformat": 4,
 "nbformat_minor": 2
}
