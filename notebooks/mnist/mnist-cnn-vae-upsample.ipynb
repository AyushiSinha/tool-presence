{
 "cells": [
  {
   "cell_type": "markdown",
   "metadata": {},
   "source": [
    "## Imports"
   ]
  },
  {
   "cell_type": "code",
   "execution_count": null,
   "metadata": {},
   "outputs": [],
   "source": [
    "import torch\n",
    "import torch.nn as nn\n",
    "import torch.nn.functional as F\n",
    "import torch.optim as optim\n",
    "from torchvision import datasets, transforms\n",
    "from torch.autograd import Variable\n",
    "from torchvision.utils import save_image\n",
    "from tqdm import tqdm, tnrange, tqdm_notebook\n",
    "\n",
    "from PIL import Image\n",
    "import hiddenlayer as hl\n",
    "\n",
    "import matplotlib.pyplot as plt\n",
    "import numpy as np\n",
    "from scipy.stats import norm\n",
    "\n",
    "from notify_run import Notify\n",
    "\n",
    "%load_ext autoreload\n",
    "%autoreload 2"
   ]
  },
  {
   "cell_type": "markdown",
   "metadata": {},
   "source": [
    "## Notifications"
   ]
  },
  {
   "cell_type": "code",
   "execution_count": null,
   "metadata": {},
   "outputs": [],
   "source": [
    "notify = Notify()\n",
    "notify.register()"
   ]
  },
  {
   "cell_type": "markdown",
   "metadata": {},
   "source": [
    "## Variables"
   ]
  },
  {
   "cell_type": "code",
   "execution_count": null,
   "metadata": {},
   "outputs": [],
   "source": [
    "batch_size = 32\n",
    "epochs = 50\n",
    "seed = 1\n",
    "log_interval = 50\n",
    "\n",
    "no_cuda = False\n",
    "cuda = not no_cuda and torch.cuda.is_available()\n",
    "\n",
    "torch.manual_seed(seed)\n",
    "\n",
    "device = torch.device(\"cuda\" if cuda else \"cpu\")\n",
    "kwargs = {'num_workers': 1, 'pin_memory': True} if cuda else {}"
   ]
  },
  {
   "cell_type": "code",
   "execution_count": null,
   "metadata": {},
   "outputs": [],
   "source": [
    "# MNIST Dataset\n",
    "train_dataset = datasets.MNIST(root='../../mnist_data/', \n",
    "                               train=True, \n",
    "                               transform = transforms.Compose([\n",
    "                                   transforms.Lambda(lambda x: x.convert('RGB')),\n",
    "                                   transforms.Resize(64),\n",
    "                                   transforms.ToTensor(),\n",
    "                               ]), \n",
    "                               download=False)\n",
    "\n",
    "test_dataset = datasets.MNIST(root='../../mnist_data/', \n",
    "                              train=False, \n",
    "                              transform=transforms.Compose([\n",
    "                                  transforms.Lambda(lambda x: x.convert('RGB')),\n",
    "                                  transforms.Resize(64),\n",
    "                                  transforms.ToTensor(),\n",
    "                              ]), \n",
    "                              download=False)\n",
    "\n",
    "# Data Loader (Input Pipeline)\n",
    "train_loader = torch.utils.data.DataLoader(dataset=train_dataset, batch_size=batch_size, shuffle=True)\n",
    "test_loader = torch.utils.data.DataLoader(dataset=test_dataset, batch_size=batch_size, shuffle=False)"
   ]
  },
  {
   "cell_type": "code",
   "execution_count": null,
   "metadata": {},
   "outputs": [],
   "source": [
    "plt.imshow(train_dataset[1][0].numpy().transpose(1,2,0))"
   ]
  },
  {
   "cell_type": "code",
   "execution_count": null,
   "metadata": {},
   "outputs": [],
   "source": [
    "class VAE(nn.Module):\n",
    "    def __init__(self, zdim):\n",
    "        super(VAE, self).__init__()\n",
    "\n",
    "        # Encoder\n",
    "        self.conv1 = nn.Conv2d(3, 16, kernel_size=3, stride=1, padding=1, bias=False)\n",
    "        self.conv2 = nn.Conv2d(16, 16, kernel_size=3, stride=1, padding=1, bias=False)\n",
    "        self.pool1 = nn.MaxPool2d(2)\n",
    "        \n",
    "        # Latent vectors\n",
    "        self.fc1 = nn.Linear(32*32*16, 1024)\n",
    "        self.fc2 = nn.Linear(1024, 128)\n",
    "        self.fc31 = nn.Linear(128, zdim)\n",
    "        self.fc32 = nn.Linear(128, zdim)\n",
    "        \n",
    "        # Decoder\n",
    "        self.fc3 = nn.Linear(zdim, 128)\n",
    "        self.fc4 = nn.Linear(128, 1024)\n",
    "        self.fc5 = nn.Linear(1024, 32*32*16)\n",
    "        \n",
    "        self.conv3 = nn.ConvTranspose2d(16, 16, kernel_size=3, stride=1, padding=1, bias=False)\n",
    "        self.conv4 = nn.ConvTranspose2d(16, 3, kernel_size=3, stride=1, padding=1, bias=False)\n",
    "\n",
    "    def sampling(self, mu, log_var):\n",
    "        std = torch.exp(0.5*log_var)\n",
    "        eps = torch.randn_like(std)\n",
    "        return eps.mul(std).add_(mu) # return z sample\n",
    "    \n",
    "    def encode(self, x):\n",
    "        x = F.relu(self.conv1(x))\n",
    "        x = self.conv2(x)\n",
    "        x = F.dropout(self.pool1(x))\n",
    "        x = x.view(-1, 32*32*16)\n",
    "        x = F.relu(self.fc1(x))\n",
    "        x = F.relu(self.fc2(x))\n",
    "        return self.fc31(x), self.fc32(x)\n",
    "    \n",
    "    def decode(self, z):\n",
    "        z = F.relu(self.fc3(z))\n",
    "        z = F.relu(self.fc4(z))\n",
    "        z = F.relu(self.fc5(z))\n",
    "        z = z.view(-1, 16, 32, 32)\n",
    "        z = F.interpolate(z, scale_factor=2)       \n",
    "        z = F.relu(self.conv3(z))\n",
    "        z = torch.sigmoid(self.conv4(z))\n",
    "        return z\n",
    "    \n",
    "    def forward(self, x):\n",
    "        mu, log_var = self.encode(x)\n",
    "        z = self.sampling(mu, log_var)\n",
    "        return self.decode(z), mu, log_var"
   ]
  },
  {
   "cell_type": "code",
   "execution_count": null,
   "metadata": {},
   "outputs": [],
   "source": [
    "model = VAE(zdim=2)#.to(device)\n",
    "optimizer = optim.Adam(model.parameters(), lr=1e-3)"
   ]
  },
  {
   "cell_type": "code",
   "execution_count": null,
   "metadata": {},
   "outputs": [],
   "source": [
    "transforms = [\n",
    "    hl.transforms.Rename(op=\"prim::Constant\", to=\"Constant\"),\n",
    "    hl.transforms.Rename(op=\"aten::randn_like\", to=\"Constant\"),\n",
    "    hl.transforms.Prune(\"Constant\"),\n",
    "\n",
    "    hl.transforms.Fold(\"Conv > Relu\", \"ConvRelu\", \"Conv3x3\"),\n",
    "    hl.transforms.Fold(\"ConvTranspose > Relu\", \"Deconv\", \"Deconv3x3\"),\n",
    "    hl.transforms.Fold(\"ConvTranspose > Sigmoid\", \"Deconv\", \"Deconv3x4\"),\n",
    "    \n",
    "    hl.transforms.Fold(\"Linear >  Relu\", \"LinearRelu\", \"Linear Relu\"),\n",
    "    hl.transforms.Fold(\"MaxPool > Dropout\", \"MaxPool\", \"Max Pool\"),\n",
    "    hl.transforms.Fold(\"Reshape > LinearRelu\", \"LinearRelu\", 'Linear Relu'),\n",
    "    hl.transforms.Fold(\"Reshape > Upsample\", \"Upsample\", 'Upsample'),\n",
    "\n",
    "    \n",
    "    hl.transforms.Fold(\"Mul > Exp > Mul > Add\", \"Sampling\", \"Sampling\"),\n",
    "    \n",
    "    hl.transforms.FoldDuplicates(),\n",
    "]\n",
    "\n",
    "# Display graph using the transforms above\n",
    "x = hl.build_graph(model, torch.zeros([1, 3, 64, 64]), transforms=transforms)"
   ]
  },
  {
   "cell_type": "code",
   "execution_count": null,
   "metadata": {},
   "outputs": [],
   "source": [
    "y = x.build_dot()\n",
    "y.graph_attr['rankdir'] = 'LR'\n",
    "y.edge_attr['len'] = '0.1'"
   ]
  },
  {
   "cell_type": "code",
   "execution_count": null,
   "metadata": {},
   "outputs": [],
   "source": [
    "y.render('architecture', format='png', view=True)  "
   ]
  },
  {
   "cell_type": "code",
   "execution_count": null,
   "metadata": {},
   "outputs": [],
   "source": [
    "def loss_function(recon_x, x, mu, log_var):\n",
    "    BCE = F.binary_cross_entropy(recon_x, x, reduction='sum')\n",
    "    KLD = -0.5 * torch.sum(1 + log_var - mu.pow(2) - log_var.exp())\n",
    "    return BCE + KLD"
   ]
  },
  {
   "cell_type": "code",
   "execution_count": null,
   "metadata": {},
   "outputs": [],
   "source": [
    "val_losses = []\n",
    "train_losses = []"
   ]
  },
  {
   "cell_type": "code",
   "execution_count": null,
   "metadata": {},
   "outputs": [],
   "source": [
    "def train(epoch):\n",
    "    model.train()\n",
    "    train_loss = 0\n",
    "    for batch_idx, (data, _) in enumerate(train_loader):\n",
    "        data = data.to(device)\n",
    "        optimizer.zero_grad()\n",
    "        recon_batch, mu, logvar = model(data)\n",
    "        loss = loss_function(recon_batch, data, mu, logvar)\n",
    "        loss.backward()\n",
    "        train_loss += loss.item()\n",
    "        optimizer.step()\n",
    "        if batch_idx % log_interval == 0:\n",
    "            tqdm.write('Train Epoch: {} [{}/{} ({:.0f}%)]\\tLoss: {:.6f}'.format(\n",
    "                epoch, batch_idx * len(data), len(train_loader.dataset),\n",
    "                       100. * batch_idx / len(train_loader),\n",
    "                       loss.item() / len(data)))\n",
    "\n",
    "    tqdm.write('====> Epoch: {} Average loss: {:.4f}'.format(\n",
    "        epoch, train_loss / len(train_loader.dataset)))\n",
    "    train_losses.append(train_loss / len(train_loader.dataset))"
   ]
  },
  {
   "cell_type": "code",
   "execution_count": null,
   "metadata": {},
   "outputs": [],
   "source": [
    "def test(epoch):\n",
    "    model.eval()\n",
    "    test_loss = 0\n",
    "    with torch.no_grad():\n",
    "        for i, (data, _) in enumerate(test_loader):\n",
    "            data = data.to(device)\n",
    "            recon_batch, mu, logvar = model(data)\n",
    "            test_loss += loss_function(recon_batch, data, mu, logvar).item()\n",
    "            if i == 0:\n",
    "                n = min(data.size(0), 8)\n",
    "                comparison = torch.cat([data[:n],\n",
    "                                        recon_batch.view(batch_size, 3, 64, 64)[:n]])\n",
    "                save_image(comparison.cpu(),\n",
    "                           './reconstruction_upsample_' + str(epoch) + '.png', nrow=n)\n",
    "\n",
    "    test_loss /= len(test_loader.dataset)\n",
    "    tqdm.write('====> Test set loss: {:.4f}'.format(test_loss))\n",
    "    val_losses.append(test_loss)\n",
    "\n"
   ]
  },
  {
   "cell_type": "code",
   "execution_count": null,
   "metadata": {},
   "outputs": [],
   "source": [
    "notify.send('Starting training')\n",
    "for epoch in tnrange(epochs):\n",
    "    notify.send('Training on epoch {}'.format(epoch+1))\n",
    "    train(epoch+1)\n",
    "    test(epoch+1)"
   ]
  },
  {
   "cell_type": "code",
   "execution_count": null,
   "metadata": {},
   "outputs": [],
   "source": [
    "torch.save(model.state_dict(), \"./cnn_vae_upsample_50epochs_zdim2.torch\")\n",
    "notify.send(\"Saved model\")"
   ]
  },
  {
   "cell_type": "code",
   "execution_count": null,
   "metadata": {},
   "outputs": [],
   "source": [
    "plt.plot(val_losses)\n",
    "plt.title('Validation Loss\\nCNN VAE Upsample 64x64\\nz=2')\n",
    "plt.xlabel('Epochs')\n",
    "plt.ylabel('Loss')\n",
    "plt.savefig('./upsample_validation_loss.png')"
   ]
  },
  {
   "cell_type": "code",
   "execution_count": null,
   "metadata": {},
   "outputs": [],
   "source": [
    "plt.plot(train_losses)\n",
    "plt.title('Training Loss\\nCNN VAE Upsample 64x64\\nz=2')\n",
    "plt.xlabel('Epochs')\n",
    "plt.ylabel('Loss')\n",
    "plt.savefig('./upsample_training_loss.png')"
   ]
  },
  {
   "cell_type": "code",
   "execution_count": null,
   "metadata": {},
   "outputs": [],
   "source": [
    "model.load_state_dict(torch.load(\"./cnn_vae_upsample_50epochs_zdim2.torch\"))"
   ]
  },
  {
   "cell_type": "code",
   "execution_count": null,
   "metadata": {},
   "outputs": [],
   "source": [
    "with torch.no_grad():\n",
    "    z = torch.randn(64, 2)\n",
    "    sample = model.decode(z.cuda())\n",
    "#     plt.imshow(sample.cpu().numpy())\n",
    "    save_image(sample.view(64, 3, 64, 64).cpu(), './upsample_sample_zdim_{}'.format(2) + '.png')"
   ]
  },
  {
   "cell_type": "code",
   "execution_count": null,
   "metadata": {},
   "outputs": [],
   "source": [
    "n=15\n",
    "digit_size=64\n",
    "\n",
    "u_grid = np.dstack(np.meshgrid(np.linspace(0.05, 0.95, n),\n",
    "                               np.linspace(0.05, 0.95, n)))\n",
    "z_grid = norm.ppf(u_grid)\n",
    "\n",
    "x_decoded = model.decode(torch.from_numpy(z_grid.reshape(n*n, 2)).float())\n",
    "x_decoded = x_decoded.reshape(n, n, 3, digit_size, digit_size)\n",
    "\n",
    "plt.axis('off')\n",
    "fig, ax = plt.subplots(frameon=False, dpi=300)\n",
    "ax.grid(False)\n",
    "ax.set_xticks([])\n",
    "ax.set_yticks([])\n",
    "\n",
    "im = ax.imshow(np.block(list(map(list, x_decoded.detach().cpu().numpy()))).transpose(1,2,0))\n",
    "fig.savefig('latent-space.png', bbox_inches='tight', pad_inches=0)"
   ]
  },
  {
   "cell_type": "code",
   "execution_count": null,
   "metadata": {},
   "outputs": [],
   "source": []
  }
 ],
 "metadata": {
  "kernelspec": {
   "display_name": "Python 3",
   "language": "python",
   "name": "python3"
  },
  "language_info": {
   "codemirror_mode": {
    "name": "ipython",
    "version": 3
   },
   "file_extension": ".py",
   "mimetype": "text/x-python",
   "name": "python",
   "nbconvert_exporter": "python",
   "pygments_lexer": "ipython3",
   "version": "3.6.5"
  }
 },
 "nbformat": 4,
 "nbformat_minor": 2
}
