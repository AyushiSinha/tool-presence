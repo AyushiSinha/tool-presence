{
 "cells": [
  {
   "cell_type": "markdown",
   "metadata": {},
   "source": [
    "## Imports"
   ]
  },
  {
   "cell_type": "code",
   "execution_count": null,
   "metadata": {},
   "outputs": [],
   "source": [
    "import torch\n",
    "import torch.nn as nn\n",
    "import torch.nn.functional as F\n",
    "import torch.optim as optim\n",
    "from torch.autograd import Variable\n",
    "from torchvision import datasets, transforms\n",
    "from torchvision.utils import save_image\n",
    "\n",
    "import matplotlib.pyplot as plt\n",
    "import matplotlib.image as mpimg\n",
    "import numpy as np\n",
    "import cv2\n",
    "\n",
    "%matplotlib inline"
   ]
  },
  {
   "cell_type": "code",
   "execution_count": null,
   "metadata": {},
   "outputs": [],
   "source": [
    "def show(img):\n",
    "    npimg = np.transpose(selected.numpy(), (1,2,0))\n",
    "    grey = cv2.cvtColor(npimg, cv2.COLOR_GRAY2BGR)\n",
    "    plt.imshow(grey, interpolation='nearest')"
   ]
  },
  {
   "cell_type": "markdown",
   "metadata": {},
   "source": [
    "## Model definition"
   ]
  },
  {
   "cell_type": "code",
   "execution_count": null,
   "metadata": {},
   "outputs": [],
   "source": [
    "class VAE(nn.Module):\n",
    "    def __init__(self, x_dim, h_dim1, h_dim2, z_dim):\n",
    "        super(VAE, self).__init__()\n",
    "        \n",
    "        # encoder part\n",
    "        self.fc1 = nn.Linear(x_dim, h_dim1)\n",
    "        self.fc2 = nn.Linear(h_dim1, h_dim2)\n",
    "        self.fc31 = nn.Linear(h_dim2, z_dim)\n",
    "        self.fc32 = nn.Linear(h_dim2, z_dim)\n",
    "        # decoder part\n",
    "        self.fc4 = nn.Linear(z_dim, h_dim2)\n",
    "        self.fc5 = nn.Linear(h_dim2, h_dim1)\n",
    "        self.fc6 = nn.Linear(h_dim1, x_dim)\n",
    "        \n",
    "    def encoder(self, x):\n",
    "        h = F.relu(self.fc1(x))\n",
    "        h = F.relu(self.fc2(h))\n",
    "        return self.fc31(h), self.fc32(h) # mu, log_var\n",
    "    \n",
    "    def sampling(self, mu, log_var):\n",
    "        std = torch.exp(0.5*log_var)\n",
    "        eps = torch.randn_like(std)\n",
    "        return eps.mul(std).add_(mu) # return z sample\n",
    "        \n",
    "    def decoder(self, z):\n",
    "        h = F.relu(self.fc4(z))\n",
    "        h = F.relu(self.fc5(h))\n",
    "        return torch.sigmoid(self.fc6(h)) \n",
    "    \n",
    "    def forward(self, x):\n",
    "        mu, log_var = self.encoder(x.view(-1, 784))\n",
    "        z = self.sampling(mu, log_var)\n",
    "        return self.decoder(z), mu, log_var"
   ]
  },
  {
   "cell_type": "code",
   "execution_count": null,
   "metadata": {},
   "outputs": [],
   "source": [
    "def loss_function(recon_x, x, mu, log_var):\n",
    "    BCE = F.binary_cross_entropy(recon_x, x.view(-1, 784), reduction='sum')\n",
    "    KLD = -0.5 * torch.sum(1 + log_var - mu.pow(2) - log_var.exp())\n",
    "    return BCE + KLD"
   ]
  },
  {
   "cell_type": "markdown",
   "metadata": {},
   "source": [
    "## Setup model and load pretrained weights"
   ]
  },
  {
   "cell_type": "code",
   "execution_count": null,
   "metadata": {},
   "outputs": [],
   "source": [
    "vae_2 = VAE(x_dim=784, h_dim1= 512, h_dim2=256, z_dim=2)\n",
    "vae_5 = VAE(x_dim=784, h_dim1= 512, h_dim2=256, z_dim=5)\n",
    "vae_10 = VAE(x_dim=784, h_dim1= 512, h_dim2=256, z_dim=10)\n",
    "vae_15 = VAE(x_dim=784, h_dim1= 512, h_dim2=256, z_dim=15)\n",
    "vae_20 = VAE(x_dim=784, h_dim1= 512, h_dim2=256, z_dim=20)"
   ]
  },
  {
   "cell_type": "code",
   "execution_count": null,
   "metadata": {},
   "outputs": [],
   "source": [
    "vae_2.load_state_dict(torch.load(\"../../weights/mnist_vae_zdim_2.torch\"))\n",
    "vae_5.load_state_dict(torch.load(\"../../weights/mnist_vae_zdim_5.torch\"))\n",
    "vae_10.load_state_dict(torch.load(\"../../weights/mnist_vae_zdim_10.torch\"))\n",
    "vae_15.load_state_dict(torch.load(\"../../weights/mnist_vae_zdim_15.torch\"))\n",
    "vae_20.load_state_dict(torch.load(\"../../weights/mnist_vae_zdim_20.torch\"))"
   ]
  },
  {
   "cell_type": "code",
   "execution_count": null,
   "metadata": {},
   "outputs": [],
   "source": [
    "if torch.cuda.is_available():\n",
    "    vae_2.cuda()\n",
    "    vae_5.cuda()\n",
    "    vae_10.cuda()\n",
    "    vae_15.cuda()\n",
    "    vae_20.cuda()"
   ]
  },
  {
   "cell_type": "markdown",
   "metadata": {},
   "source": [
    "## Create Reconstructions"
   ]
  },
  {
   "cell_type": "code",
   "execution_count": null,
   "metadata": {},
   "outputs": [],
   "source": [
    "test_dataset = datasets.MNIST(root='~/tool-presence/mnist_data/', train=False, transform=transforms.ToTensor(), download=False)\n",
    "test_loader = torch.utils.data.DataLoader(dataset=test_dataset, batch_size=64, shuffle=False)"
   ]
  },
  {
   "cell_type": "code",
   "execution_count": null,
   "metadata": {},
   "outputs": [],
   "source": [
    "plt.rc('text', usetex=True)\n",
    "plt.rc('font', family='serif')\n",
    "\n",
    "def plot_image_rows(images_list, title_list, out=None):\n",
    "    rows = len(images_list)\n",
    "    cols = len(images_list[0])\n",
    "    \n",
    "    def plot_image_row(images, title):\n",
    "        plt.figure(figsize=(cols, 5))\n",
    "        plt.gcf().suptitle(title)\n",
    "        for i, img in enumerate(images):\n",
    "            plt.subplot(rows, cols, i + 1)\n",
    "            plt.imshow(img[:,:,0], cmap='Greys_r')\n",
    "            plt.axis('off')\n",
    "\n",
    "    for images, title in zip(images_list, title_list):\n",
    "        plot_image_row(images, title)\n"
   ]
  },
  {
   "cell_type": "code",
   "execution_count": null,
   "metadata": {},
   "outputs": [],
   "source": [
    "selected_idx = [5531, 2553, 1432, 4526, 9960, 6860, 6987, 3720, 5003, 9472]\n",
    "\n",
    "selected = [np.transpose(test_dataset[idx][0].numpy(), (1,2,0)) for idx in selected_idx]\n",
    "with torch.no_grad():\n",
    "    data = torch.cat([test_dataset[idx][0] for idx in selected_idx])\n",
    "    data = data.cuda()\n",
    "    recon_batch, mu, logvar = vae_2(data)\n",
    "    recon_batch = recon_batch.view(10, 1, 28, 28)\n",
    "    selected_vae_2 = [np.transpose(recon_batch.cpu().numpy()[i, ...], (1,2,0)) for i in range(10)]    \n",
    "    \n",
    "    recon_batch, mu, logvar = vae_5(data)\n",
    "    recon_batch = recon_batch.view(10, 1, 28, 28)\n",
    "    selected_vae_5 = [np.transpose(recon_batch.cpu().numpy()[i, ...], (1,2,0)) for i in range(10)]    \n",
    "\n",
    "    recon_batch, mu, logvar = vae_10(data)\n",
    "    recon_batch = recon_batch.view(10, 1, 28, 28)\n",
    "    selected_vae_10 = [np.transpose(recon_batch.cpu().numpy()[i, ...], (1,2,0)) for i in range(10)]    \n",
    "\n",
    "    recon_batch, mu, logvar = vae_15(data)\n",
    "    recon_batch = recon_batch.view(10, 1, 28, 28)\n",
    "    selected_vae_15 = [np.transpose(recon_batch.cpu().numpy()[i, ...], (1,2,0)) for i in range(10)]    \n",
    "    \n",
    "    recon_batch, mu, logvar = vae_20(data)\n",
    "    recon_batch = recon_batch.view(10, 1, 28, 28)\n",
    "    selected_vae_20 = [np.transpose(recon_batch.cpu().numpy()[i, ...], (1,2,0)) for i in range(10)]        "
   ]
  },
  {
   "cell_type": "code",
   "execution_count": null,
   "metadata": {},
   "outputs": [],
   "source": [
    "plot_image_rows([selected, selected_vae_2, selected_vae_5, selected_vae_10], \n",
    "                ['Original images', 'Latent dimension z=2', 'Latent dimension z=5', 'Latent dimension z=10'],\n",
    "                out='./comparison.png'\n",
    "               )"
   ]
  },
  {
   "cell_type": "markdown",
   "metadata": {},
   "source": [
    "It appears we have diminishing returns w.r.t. the size of z."
   ]
  },
  {
   "cell_type": "code",
   "execution_count": null,
   "metadata": {},
   "outputs": [],
   "source": [
    "models = [vae_2, vae_5, vae_10]\n",
    "zdims = [2, 5, 10]\n",
    "for i, (data, _) in enumerate(test_loader):\n",
    "    data = data.cuda()\n",
    "    for j in range(len(zdims)):\n",
    "        recon_batch, mu, logvar = models[j](data)\n",
    "        if i == 0:\n",
    "            n = data.size(0)\n",
    "            comparison = torch.cat([data[:n],\n",
    "                                  recon_batch.view(64, 1, 28, 28)[:n]])\n",
    "            save_image(comparison.cpu(),\n",
    "                     './reconstruction_zdim_{}.png'.format(zdims[j]), nrow=n)"
   ]
  },
  {
   "cell_type": "markdown",
   "metadata": {},
   "source": [
    "## View Images"
   ]
  },
  {
   "cell_type": "code",
   "execution_count": null,
   "metadata": {},
   "outputs": [],
   "source": [
    "fig, ax = plt.subplots(figsize=(20, 10))\n",
    "img=mpimg.imread('./reconstruction_zdim_2.png')\n",
    "ax.imshow(img);"
   ]
  },
  {
   "cell_type": "code",
   "execution_count": null,
   "metadata": {},
   "outputs": [],
   "source": [
    "fig, ax = plt.subplots(figsize=(20, 10))\n",
    "img=mpimg.imread('./reconstruction_zdim_5.png')\n",
    "ax.imshow(img);"
   ]
  },
  {
   "cell_type": "code",
   "execution_count": null,
   "metadata": {},
   "outputs": [],
   "source": [
    "fig, ax = plt.subplots(figsize=(20, 10))\n",
    "img=mpimg.imread('./reconstruction_zdim_10.png')\n",
    "ax.imshow(img);"
   ]
  },
  {
   "cell_type": "markdown",
   "metadata": {},
   "source": [
    "## Compute Stats"
   ]
  },
  {
   "cell_type": "markdown",
   "metadata": {},
   "source": [
    "The Laplacian variance increases with increased focus of an image or decreases with increased blur. Furthermore, images with a smaller amount of edges tend to have a smaller Laplacian variance"
   ]
  },
  {
   "cell_type": "code",
   "execution_count": null,
   "metadata": {},
   "outputs": [],
   "source": [
    "def laplacian_variance(images):\n",
    "    return [cv2.Laplacian(image, cv2.CV_32F).var() for image in images]"
   ]
  },
  {
   "cell_type": "code",
   "execution_count": null,
   "metadata": {},
   "outputs": [],
   "source": [
    "originals = {i:list() for i in range(10)}\n",
    "zdim_2 = {i:list() for i in range(10)}\n",
    "zdim_5 = {i:list() for i in range(10)}\n",
    "zdim_10 = {i:list() for i in range(10)}\n",
    "\n",
    "for data, target in test_loader:\n",
    "    for tensor, label in zip(data, target):\n",
    "        originals[int(label.item())].append(np.transpose(tensor.numpy(), (1,2,0)))\n",
    "        \n",
    "        tensor = tensor.cuda()\n",
    "        recon, mu, logvar = vae_2(tensor)\n",
    "        zdim_2[int(label.item())].append(np.transpose(recon.view(1,28,28).cpu().detach().numpy(), (1,2,0)))\n",
    "\n",
    "        recon, mu, logvar = vae_5(tensor)\n",
    "        zdim_5[int(label.item())].append(np.transpose(recon.view(1,28,28).cpu().detach().numpy(), (1,2,0)))\n",
    "\n",
    "        recon, mu, logvar = vae_10(tensor)\n",
    "        zdim_10[int(label.item())].append(np.transpose(recon.view(1,28,28).cpu().detach().numpy(), (1,2,0)))"
   ]
  },
  {
   "cell_type": "code",
   "execution_count": null,
   "metadata": {},
   "outputs": [],
   "source": [
    "# fig, ax = plt.subplots(1,4, sharey='row', figsize=(40, 10))\n",
    "\n",
    "# ax[0].boxplot([laplacian_variance(originals[i]) for i in range(10)], labels=range(10));\n",
    "# ax[1].boxplot([laplacian_variance(zdim_2[i]) for i in range(10)], labels=range(10));\n",
    "# ax[2].boxplot([laplacian_variance(zdim_5[i]) for i in range(10)], labels=range(10));\n",
    "# ax[3].boxplot([laplacian_variance(zdim_10[i]) for i in range(10)], labels=range(10));"
   ]
  },
  {
   "cell_type": "code",
   "execution_count": null,
   "metadata": {},
   "outputs": [],
   "source": [
    "laplacian_variances = [laplacian_variance(originals[i]) for i in range(10)]\n",
    "\n",
    "plt.boxplot(laplacian_variances, labels=range(10));\n",
    "plt.xlabel('Digit class')\n",
    "plt.ylabel('Laplacian variance')\n",
    "# plt.title('Laplacian variance statistics per digit class');\n",
    "plt.savefig(\"./laplacian_variance_original.png\", dpi=300)"
   ]
  },
  {
   "cell_type": "code",
   "execution_count": null,
   "metadata": {},
   "outputs": [],
   "source": [
    "laplacian_variances = [laplacian_variance(zdim_2[i]) for i in range(10)]\n",
    "\n",
    "plt.boxplot(laplacian_variances, labels=range(10));\n",
    "plt.xlabel('Digit class')\n",
    "# plt.ylabel('Laplacian variance')\n",
    "# plt.title('Laplacian variance statistics per digit class\\n($z$=2)');\n",
    "plt.savefig(\"./laplacian_variance_zdim2.png\", dpi=300)"
   ]
  },
  {
   "cell_type": "code",
   "execution_count": null,
   "metadata": {},
   "outputs": [],
   "source": [
    "laplacian_variances = [laplacian_variance(zdim_5[i]) for i in range(10)]\n",
    "\n",
    "plt.boxplot(laplacian_variances, labels=range(10));\n",
    "plt.xlabel('Digit class')\n",
    "# plt.ylabel('Laplacian variance')\n",
    "# plt.title('Laplacian variance statistics per digit class\\n($z$=5)');\n",
    "plt.savefig(\"./laplacian_variance_zdim5.png\", dpi=300)"
   ]
  },
  {
   "cell_type": "code",
   "execution_count": null,
   "metadata": {},
   "outputs": [],
   "source": [
    "laplacian_variances = [laplacian_variance(zdim_10[i]) for i in range(10)]\n",
    "\n",
    "plt.boxplot(laplacian_variances, labels=range(10));\n",
    "plt.xlabel('Digit class')\n",
    "# plt.ylabel('Laplacian variance')\n",
    "# plt.title('Laplacian variance statistics per digit class\\n($z$=10)');\n",
    "plt.savefig(\"./laplacian_variance_zdim10.png\", dpi=300)"
   ]
  },
  {
   "cell_type": "code",
   "execution_count": null,
   "metadata": {},
   "outputs": [],
   "source": [
    "laplacian_variances = [laplacian_variance(zdim_15[i]) for i in range(10)]\n",
    "\n",
    "plt.boxplot(laplacian_variances, labels=range(10));\n",
    "plt.xlabel('Digit class')\n",
    "plt.ylabel('Laplacian variance')\n",
    "plt.title('Laplacian variance statistics per digit class\\n(z=15)');"
   ]
  },
  {
   "cell_type": "code",
   "execution_count": null,
   "metadata": {},
   "outputs": [],
   "source": [
    "laplacian_variances = [laplacian_variance(zdim_20[i]) for i in range(10)]\n",
    "\n",
    "plt.boxplot(laplacian_variances, labels=range(10));\n",
    "plt.xlabel('Digit class')\n",
    "plt.ylabel('Laplacian variance')\n",
    "plt.title('Laplacian variance statistics per digit class\\n(z=20)');"
   ]
  },
  {
   "cell_type": "code",
   "execution_count": null,
   "metadata": {},
   "outputs": [],
   "source": [
    "plt.hist(lvs_1, alpha=0.2, bins=50, label='Original images');\n",
    "plt.hist(lvs_2, alpha=0.2, bins=50, label='Images generated by plain VAE');\n",
    "plt.hist(lvs_3, alpha=0.2, bins=50, label='Images generated by DFC VAE');\n",
    "plt.xlabel('Laplacian variance')\n",
    "plt.title(title)\n",
    "plt.legend();"
   ]
  }
 ],
 "metadata": {
  "kernelspec": {
   "display_name": "Python 3",
   "language": "python",
   "name": "python3"
  },
  "language_info": {
   "codemirror_mode": {
    "name": "ipython",
    "version": 3
   },
   "file_extension": ".py",
   "mimetype": "text/x-python",
   "name": "python",
   "nbconvert_exporter": "python",
   "pygments_lexer": "ipython3",
   "version": "3.6.5"
  }
 },
 "nbformat": 4,
 "nbformat_minor": 2
}
