{
 "cells": [
  {
   "cell_type": "code",
   "execution_count": null,
   "metadata": {},
   "outputs": [],
   "source": [
    "import os\n",
    "import argparse\n",
    "import pystan\n",
    "import matplotlib\n",
    "import matplotlib.pyplot as plt\n",
    "import pandas as pd\n",
    "import numpy as np\n",
    "import pickle"
   ]
  },
  {
   "cell_type": "code",
   "execution_count": null,
   "metadata": {},
   "outputs": [],
   "source": [
    "from scipy.special import logsumexp\n",
    "from scipy.stats import norm\n",
    "from sklearn.metrics import confusion_matrix, accuracy_score, f1_score\n",
    "import seaborn as sns"
   ]
  },
  {
   "cell_type": "code",
   "execution_count": null,
   "metadata": {},
   "outputs": [],
   "source": [
    "np.random.seed(101)\n",
    "matplotlib.rc('text', usetex=True)\n",
    "matplotlib.rcParams['figure.dpi'] = 200"
   ]
  },
  {
   "cell_type": "code",
   "execution_count": null,
   "metadata": {},
   "outputs": [],
   "source": [
    "def confusion(result, test_labels):\n",
    "    predictions = np.zeros((len(test_labels), ))\n",
    "    for i, row in enumerate(test_labels.itertuples()):\n",
    "        logpz = np.log(result['theta'][-1]) #mixing probabilities\n",
    "        logpy_z0 = norm.logpdf(row[:10], \n",
    "                        loc=result['mu'][-1][0],\n",
    "                        scale=result['sigma'][-1][0])\n",
    "        logpy_z1 = norm.logpdf(row[:10], \n",
    "                        loc=result['mu'][-1][1],\n",
    "                        scale=result['sigma'][-1][1])\n",
    "        posterior0 = logpz[:,0] + logpy_z0\n",
    "        posterior1 = logpz[:,1] + logpy_z1\n",
    "        predictions[i] = int(logsumexp(posterior0) > logsumexp(posterior1))\n",
    "\n",
    "    confusion = confusion_matrix(test_labels['Tool'].values, predictions)\n",
    "    accuracy = accuracy_score(test_labels['Tool'].values, predictions)\n",
    "    f1 = f1_score(test_labels['Tool'].values, predictions)\n",
    "    return confusion, accuracy, f1"
   ]
  },
  {
   "cell_type": "code",
   "execution_count": null,
   "metadata": {},
   "outputs": [],
   "source": [
    "# set up argparse\n",
    "parser = argparse.ArgumentParser(\n",
    "    formatter_class=argparse.ArgumentDefaultsHelpFormatter)\n",
    "\n",
    "parser.add_argument('--root', type=str,\n",
    "                    default=os.path.abspath('.'),\n",
    "                    help='Root directory of tool-presence')\n",
    "parser.add_argument('--train', type=str, default='')\n",
    "parser.add_argument('--test', type=str, default='')\n",
    "parser.add_argument('--model-path', type=str, default='')\n",
    "parser.add_argument('--fit-path', type=str, default='')\n",
    "parser.add_argument('-v', '--verbose', help=\"increase output verbosity\",\n",
    "                    action=\"store_true\")\n",
    "args = parser.parse_args([]);\n",
    "args.train=\"mmd/csv/beta_1.0_zdim_10_train.csv\"\n",
    "args.test=\"mmd/csv/beta_1.0_zdim_10_test.csv\"\n",
    "args.root='~/tool-presence/'\n",
    "args.model_path='inference/prediction_model.pkl'\n",
    "args.fit_path='inference/prediction_fit.pkl'\n",
    "args.verbose=True"
   ]
  },
  {
   "cell_type": "code",
   "execution_count": null,
   "metadata": {},
   "outputs": [],
   "source": [
    "if args.verbose:\n",
    "    print(\"Reading train data from:\",\n",
    "          os.path.join(args.root, args.train))\n",
    "    print(\"Reading test data from:\",\n",
    "          os.path.join(args.root, args.test))\n",
    "    print(\"Saving inference model to:\",\n",
    "          os.path.join(args.root, args.model_path))\n",
    "    print(\"Saving fit to:\",\n",
    "          os.path.join(args.root, args.fit_path))"
   ]
  },
  {
   "cell_type": "code",
   "execution_count": null,
   "metadata": {},
   "outputs": [],
   "source": [
    "train_data_file = os.path.join(args.root, args.train) #\"../mmd/csv/beta_1.0_zdim_10_train.csv\"\n",
    "test_data_file = os.path.join(args.root, args.test) # \"../mmd/csv/beta_1.0_zdim_10_test.csv\"\n",
    "test_labels_file = os.path.join(args.root, 'data/youtube_data/val/labels.csv')\n",
    "compiled_model = os.path.join(args.root, args.model_path) #\"../inference/predictions.pkl\"\n",
    "sampled_fit = os.path.join(args.root, args.fit_path) #\"../inference/predictions.pkl"
   ]
  },
  {
   "cell_type": "code",
   "execution_count": null,
   "metadata": {},
   "outputs": [],
   "source": [
    "# Read data into pandas dataframe\n",
    "train = pd.read_csv(train_data_file, index_col=0)\n",
    "test = pd.read_csv(test_data_file, index_col=0)\n",
    "test_labels = pd.read_csv(test_labels_file, index_col=0)\n",
    "test_labels = pd.concat([test, test_labels], axis=1).dropna()\n",
    "\n",
    "# Want to learn tool/no tool (2 latent groups)\n",
    "data = {\"N\": len(train.index),\n",
    "        \"N2\": len(test_labels),\n",
    "        \"x\":train,\n",
    "        \"x_test\":test_labels.values[:,:10],\n",
    "        \"K\":2,\n",
    "        \"D\":len(train.columns)}\n",
    "\n",
    "# stan parameters\n",
    "iters = 1000"
   ]
  },
  {
   "cell_type": "code",
   "execution_count": null,
   "metadata": {},
   "outputs": [],
   "source": [
    "model = \"\"\"\n",
    "    data {\n",
    "    int N; // number of observations\n",
    "    int N2; // number of test_observations\n",
    "    int D; // dimension of observed vars\n",
    "    int K; // number of clusters\n",
    "    vector[D] x[N]; // training data\n",
    "    vector[D] x_test[N2]; //test data\n",
    "    }\n",
    "\n",
    "    parameters {\n",
    "    ordered[K] mu; // locations of hidden states\n",
    "    vector<lower=0>[K] sigma; // variances of hidden states\n",
    "    simplex[K] theta[D]; // mixture components\n",
    "    }\n",
    "\n",
    "    model {\n",
    "    matrix[K,D] obs = rep_matrix(0.0, K, D);\n",
    "    // priors\n",
    "    for(k in 1:K){\n",
    "      mu[k] ~ normal(0,10);\n",
    "      sigma[k] ~ inv_gamma(1,1); //prior of normal distribution\n",
    "    }\n",
    "    for (d in 1:D){\n",
    "      theta[d] ~ dirichlet(rep_vector(5.0, K)); //prior of categorical distribution\n",
    "    }\n",
    "    // likelihood\n",
    "    for(i in 1:N) {\n",
    "      vector[D] increments;\n",
    "      for(d in 1:D){\n",
    "        increments[d]=log_mix(theta[d][1],\n",
    "            normal_lpdf(x[i][d] | mu[1], sigma[1]), normal_lpdf(x[i][d] | mu[2], sigma[2]));\n",
    "      }\n",
    "      target += log_sum_exp(increments);\n",
    "    }\n",
    "    }\n",
    "\n",
    "    generated quantities {\n",
    "      vector[N2] log_p_y_tilde;\n",
    "      for(i in 1:N2) {\n",
    "          vector[D] increments;\n",
    "          for(d in 1:D){\n",
    "            increments[d]=log_mix(theta[d][1],\n",
    "                normal_lpdf(x_test[i][d] | mu[1], sigma[1]), normal_lpdf(x[i][d] | mu[2], sigma[2]));\n",
    "          }\n",
    "          log_p_y_tilde[i] = log_sum_exp(increments);\n",
    "      }\n",
    "    }\n",
    "    \"\"\"\n",
    "# sm = pystan.StanModel(model_code=model)\n",
    "# with open(compiled_model, 'wb') as f:\n",
    "#     pickle.dump(sm, f)\n",
    "with open(compiled_model, 'rb') as f:\n",
    "    sm = pickle.load(f)"
   ]
  },
  {
   "cell_type": "code",
   "execution_count": null,
   "metadata": {},
   "outputs": [],
   "source": [
    "fit = sm.sampling(data=data, iter=5000, chains=4, thin=1)"
   ]
  },
  {
   "cell_type": "code",
   "execution_count": null,
   "metadata": {},
   "outputs": [],
   "source": [
    "print(fit)"
   ]
  },
  {
   "cell_type": "code",
   "execution_count": null,
   "metadata": {},
   "outputs": [],
   "source": [
    "# results = [fits[i].extract() for i in fits]\n",
    "result = fit.extract()"
   ]
  },
  {
   "cell_type": "code",
   "execution_count": null,
   "metadata": {},
   "outputs": [],
   "source": [
    "c,a,f = confusion(result, test_labels)\n",
    "print(a, f)\n",
    "sns.heatmap(c.astype('float') / c.sum(axis=1)[:, np.newaxis], \n",
    "            cmap=sns.color_palette(\"Blues\"),\n",
    "            xticklabels=['No Tool', 'Tool'], \n",
    "            yticklabels=['No Tool', 'Tool'], \n",
    "            annot=c, annot_kws={\"size\": 28}, \n",
    "            fmt='g',cbar=False)\n",
    "\n",
    "plt.ylabel(\"Predictions\")\n",
    "plt.xlabel(\"Actual\")\n",
    "plt.title(r\"$\\beta$\" \"-VAE Confusion Matrix\\n\" + \n",
    "          r\"$\\beta=1, z=10$\");\n",
    "plt.savefig('beta_vae_beta1_confusion.png')"
   ]
  },
  {
   "cell_type": "code",
   "execution_count": null,
   "metadata": {},
   "outputs": [],
   "source": [
    "fig = plt.figure()\n",
    "plt.hist(result['mu'].flatten(), bins=50);\n",
    "plt.title(\"Posterior distribution\\n\"+\n",
    "          r\"$\\beta$-VAE $\\beta=1, z=10$\")\n",
    "plt.ylabel('Frequency')\n",
    "plt.xlabel(r'$\\mu$')\n",
    "plt.savefig('mcmc_4chains_elbo_beta1.png')"
   ]
  },
  {
   "cell_type": "code",
   "execution_count": null,
   "metadata": {},
   "outputs": [],
   "source": [
    "# Accuracy?????\n",
    "\n",
    "#elbo beta = 1: 60.9%\n",
    "#mmd lambda=1: 68%\n",
    "#mmd lambda=10: 58%"
   ]
  },
  {
   "cell_type": "code",
   "execution_count": null,
   "metadata": {},
   "outputs": [],
   "source": [
    "c = np.array([[27,71],[50,159]])"
   ]
  },
  {
   "cell_type": "code",
   "execution_count": null,
   "metadata": {},
   "outputs": [],
   "source": []
  }
 ],
 "metadata": {
  "kernelspec": {
   "display_name": "Python 3",
   "language": "python",
   "name": "python3"
  },
  "language_info": {
   "codemirror_mode": {
    "name": "ipython",
    "version": 3
   },
   "file_extension": ".py",
   "mimetype": "text/x-python",
   "name": "python",
   "nbconvert_exporter": "python",
   "pygments_lexer": "ipython3",
   "version": "3.6.8"
  }
 },
 "nbformat": 4,
 "nbformat_minor": 2
}
