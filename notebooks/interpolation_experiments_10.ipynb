{
 "cells": [
  {
   "cell_type": "code",
   "execution_count": null,
   "metadata": {},
   "outputs": [],
   "source": [
    "%matplotlib notebook \n",
    "%load_ext autoreload\n",
    "%autoreload 2"
   ]
  },
  {
   "cell_type": "code",
   "execution_count": null,
   "metadata": {},
   "outputs": [],
   "source": [
    "import sys\n",
    "import os\n",
    "\n",
    "module_path = os.path.abspath(os.path.join('..'))\n",
    "if module_path not in sys.path:\n",
    "    sys.path.append(module_path)\n",
    "    \n",
    "from src import constants as c\n",
    "from src.model import VAE\n",
    "from src import visualization as v\n",
    "\n",
    "from matplotlib import pyplot as plt\n",
    "from mpl_toolkits.mplot3d import Axes3D\n",
    "import numpy as np\n",
    "import pandas as pd\n",
    "from sklearn import decomposition, manifold\n",
    "\n",
    "from tqdm import tqdm, tnrange, tqdm_notebook"
   ]
  },
  {
   "cell_type": "code",
   "execution_count": null,
   "metadata": {},
   "outputs": [],
   "source": [
    "import torch\n",
    "from torchvision import datasets, transforms"
   ]
  },
  {
   "cell_type": "code",
   "execution_count": null,
   "metadata": {},
   "outputs": [],
   "source": [
    "data_transforms = transforms.Compose([\n",
    "    transforms.Resize(c.image_size),\n",
    "    transforms.CenterCrop(c.image_size),\n",
    "    transforms.ToTensor()\n",
    "])\n",
    "\n",
    "image_datasets = {x: datasets.ImageFolder(os.path.join(c.data_home, 'surgical_data/',x),\n",
    "                                          data_transforms)\n",
    "                  for x in ['train', 'val']}\n",
    "dataloaders = {x: torch.utils.data.DataLoader(image_datasets[x], \n",
    "                                              batch_size=c.batch_size,\n",
    "                                              shuffle=True)\n",
    "               for x in ['train', 'val']}"
   ]
  },
  {
   "cell_type": "code",
   "execution_count": null,
   "metadata": {},
   "outputs": [],
   "source": [
    "models = {zdim: VAE(image_channels=c.image_channels,\n",
    "                    image_size=c.image_size, \n",
    "                    h_dim1=1024,\n",
    "                    h_dim2=128,\n",
    "                    zdim=zdim).to(c.device) for zdim in [10]}"
   ]
  },
  {
   "cell_type": "code",
   "execution_count": null,
   "metadata": {},
   "outputs": [],
   "source": [
    "for zdim, model in models.items():\n",
    "    model.load_state_dict(torch.load(c.data_home + \"weights/tools_vae_{}_epoch_50_zdim_{}.torch\".format(c.image_size,\n",
    "                                                                                                        zdim)))"
   ]
  },
  {
   "cell_type": "code",
   "execution_count": null,
   "metadata": {},
   "outputs": [],
   "source": [
    "labels = pd.read_csv(os.path.join(c.data_home, 'surgical_data/', 'surgical_labels.csv'))"
   ]
  },
  {
   "cell_type": "code",
   "execution_count": null,
   "metadata": {},
   "outputs": [],
   "source": [
    "encoded_inputs = {zdim: [] for zdim in [10]}\n",
    "\n",
    "with torch.no_grad():\n",
    "    for zdim in tqdm_notebook(encoded_inputs):\n",
    "        for index in tnrange(len(image_datasets['train'])):\n",
    "            data = image_datasets['train'][index][0].view(-1, c.image_channels, c.image_size, c.image_size).to(c.device)\n",
    "            latent_vector = models[zdim].sampling(*models[zdim].encode(data)).cpu().detach().numpy()\n",
    "            encoded_inputs[zdim].extend([ar[0] for ar in np.split(latent_vector, data.shape[0])])\n",
    "            \n",
    "        for index in tnrange(len(image_datasets['val'])):\n",
    "            data = image_datasets['val'][index][0].view(-1, c.image_channels, c.image_size, c.image_size).to(c.device)\n",
    "            latent_vector = models[zdim].sampling(*models[zdim].encode(data)).cpu().detach().numpy()\n",
    "            encoded_inputs[zdim].extend([ar[0] for ar in np.split(latent_vector, data.shape[0])])"
   ]
  },
  {
   "cell_type": "code",
   "execution_count": null,
   "metadata": {},
   "outputs": [],
   "source": [
    "dataframes = {zdim: pd.concat([pd.DataFrame(encoded_inputs[zdim]), labels], axis=1) for zdim in [10]}"
   ]
  },
  {
   "cell_type": "code",
   "execution_count": null,
   "metadata": {},
   "outputs": [],
   "source": [
    "latent_space = pd.concat(dataframes)\n",
    "latent_space.head()"
   ]
  },
  {
   "cell_type": "code",
   "execution_count": null,
   "metadata": {},
   "outputs": [],
   "source": [
    "for zdim, d in dataframes.items():\n",
    "    d.to_csv(os.path.join(c.data_home, 'dataframes', 'encoded_inputs_{}_epoch_50_zdim_{}.csv'.format(c.image_size,\n",
    "                                                                                                 zdim\n",
    "                                                                                                )))"
   ]
  },
  {
   "cell_type": "code",
   "execution_count": null,
   "metadata": {},
   "outputs": [],
   "source": [
    "for zdim in [10]:\n",
    "    components=5\n",
    "    pca = decomposition.PCA(n_components=components)\n",
    "    pca_result = pca.fit_transform(latent_space.loc[zdim][[0,1,2,3,4]].values)\n",
    "    for i in range(components):\n",
    "        latent_space.loc[zdim,'pc{}'.format(i+1)] = pca_result[:,i]\n",
    "    print('z={}:\\tExplained variation per principal component: {} {}'.format(zdim, sum(pca.explained_variance_ratio_),pca.explained_variance_ratio_))"
   ]
  },
  {
   "cell_type": "markdown",
   "metadata": {},
   "source": [
    "# Testing Interpolation"
   ]
  },
  {
   "cell_type": "markdown",
   "metadata": {},
   "source": [
    "## Similar Anatomy, tool enters frame"
   ]
  },
  {
   "cell_type": "code",
   "execution_count": null,
   "metadata": {},
   "outputs": [],
   "source": [
    "fig = plt.figure()\n",
    "plt.title(\"Initial Images\\nStart, End\")\n",
    "plt.imshow(np.hstack([image_datasets['train'][0][0].numpy().transpose(1,2,0), \n",
    "                      image_datasets['train'][10][0].numpy().transpose(1,2,0)]))"
   ]
  },
  {
   "cell_type": "code",
   "execution_count": null,
   "metadata": {},
   "outputs": [],
   "source": [
    "images = v.latent_interpolation(image_datasets['train'][0][0], image_datasets['train'][10][0], model=models[10])\n",
    "\n",
    "fig, ax = plt.subplots(1,10, figsize=(10,2),\n",
    "                       frameon=False,gridspec_kw={'wspace':0.05, 'width_ratios':[1.25,1,1,1,1,1,1,1,1,1.25]})\n",
    "for i in range(10):\n",
    "    ax[i].imshow(images[i])\n",
    "    ax[i].axis('off')\n",
    "ax[0].set_title(\"Start\")\n",
    "ax[-1].set_title(\"End\")\n",
    "\n",
    "plt.savefig(os.path.join(c.data_home,'figures','tool_different_anatomy_similar.png'), bbox_inches='tight', dpi=200, pad_inches=0.0)"
   ]
  },
  {
   "cell_type": "code",
   "execution_count": null,
   "metadata": {},
   "outputs": [],
   "source": [
    "fig = plt.figure()\n",
    "plt.title(\"Initial Images\\nStart, End\")\n",
    "plt.imshow(np.hstack([image_datasets['train'][1000][0].numpy().transpose(1,2,0),\n",
    "                      image_datasets['train'][1200][0].numpy().transpose(1,2,0)]))"
   ]
  },
  {
   "cell_type": "code",
   "execution_count": null,
   "metadata": {},
   "outputs": [],
   "source": [
    "images = v.latent_interpolation(image_datasets['train'][1000][0], image_datasets['train'][1200][0], model=models[10])\n",
    "\n",
    "fig = plt.figure(figsize=(10, 2))\n",
    "plt.imshow(np.hstack(images))"
   ]
  },
  {
   "cell_type": "markdown",
   "metadata": {},
   "source": [
    "## Tool present, different anatomy"
   ]
  },
  {
   "cell_type": "code",
   "execution_count": null,
   "metadata": {},
   "outputs": [],
   "source": [
    "fig = plt.figure()\n",
    "plt.title(\"Initial Images\\nStart, End\")\n",
    "plt.imshow(np.hstack([image_datasets['train'][10][0].numpy().transpose(1,2,0), \n",
    "                      image_datasets['train'][400][0].numpy().transpose(1,2,0)]))"
   ]
  },
  {
   "cell_type": "code",
   "execution_count": null,
   "metadata": {},
   "outputs": [],
   "source": [
    "images = v.latent_interpolation(image_datasets['train'][10][0], image_datasets['train'][400][0], model=models[10])\n",
    "\n",
    "fig, ax = plt.subplots(1,10, figsize=(10,2),\n",
    "                       frameon=False,gridspec_kw={'wspace':0.05, 'width_ratios':[1.25,1,1,1,1,1,1,1,1,1.25]})\n",
    "for i in range(10):\n",
    "    ax[i].imshow(images[i])\n",
    "    ax[i].axis('off')\n",
    "ax[0].set_title(\"Start\")\n",
    "ax[-1].set_title(\"End\")\n",
    "plt.savefig(os.path.join(c.data_home,'figures','tool_present_anatomy_different.png'),bbox_inches='tight', dpi=200, pad_inches=0.0)"
   ]
  },
  {
   "cell_type": "code",
   "execution_count": null,
   "metadata": {},
   "outputs": [],
   "source": [
    "fig = plt.figure()\n",
    "plt.title(\"Initial Images\\nStart, End\")\n",
    "plt.imshow(np.hstack([image_datasets['train'][400][0].numpy().transpose(1,2,0), \n",
    "                      image_datasets['train'][1000][0].numpy().transpose(1,2,0)]))"
   ]
  },
  {
   "cell_type": "code",
   "execution_count": null,
   "metadata": {},
   "outputs": [],
   "source": [
    "images = v.latent_interpolation(image_datasets['train'][10][0], image_datasets['train'][400][0], model=models[10])\n",
    "fig = plt.figure(figsize=(10, 2))\n",
    "plt.imshow(np.hstack(images))"
   ]
  },
  {
   "cell_type": "markdown",
   "metadata": {},
   "source": [
    "## Tool initially present, different anatomy"
   ]
  },
  {
   "cell_type": "code",
   "execution_count": null,
   "metadata": {},
   "outputs": [],
   "source": [
    "fig = plt.figure()\n",
    "plt.title(\"Initial Images\\nStart, End\")\n",
    "plt.imshow(np.hstack([image_datasets['train'][10][0].numpy().transpose(1,2,0), \n",
    "                      image_datasets['train'][830][0].numpy().transpose(1,2,0)]))"
   ]
  },
  {
   "cell_type": "code",
   "execution_count": null,
   "metadata": {},
   "outputs": [],
   "source": [
    "images = v.latent_interpolation(image_datasets['train'][10][0], image_datasets['train'][830][0], model=models[10])\n",
    "\n",
    "fig, ax = plt.subplots(1,10, figsize=(10,2),\n",
    "                       frameon=False,gridspec_kw={'wspace':0.05, 'width_ratios':[1.25,1,1,1,1,1,1,1,1,1.25]})\n",
    "for i in range(10):\n",
    "    ax[i].imshow(images[i])\n",
    "    ax[i].axis('off')\n",
    "ax[0].set_title(\"Start\")\n",
    "ax[-1].set_title(\"End\")\n",
    "plt.savefig(os.path.join(c.data_home, 'figures', 'tool_different_anatomy_different.png'),bbox_inches='tight', dpi=200, pad_inches=0.0)"
   ]
  },
  {
   "cell_type": "code",
   "execution_count": null,
   "metadata": {},
   "outputs": [],
   "source": [
    "# plot it\n",
    "f, (a0, a1) = plt.subplots(1,2, gridspec_kw = {'width_ratios':[1.25, 1]})\n",
    "a0.imshow(image_datasets['train'][10][0].numpy().transpose(1,2,0))\n",
    "a0.axis('off')\n",
    "a1.imshow(image_datasets['train'][830][0].numpy().transpose(1,2,0))\n",
    "a1.axis('off')\n",
    "f.tight_layout()"
   ]
  },
  {
   "cell_type": "code",
   "execution_count": null,
   "metadata": {},
   "outputs": [],
   "source": [
    "images = v.latent_interpolation(image_datasets['train'][0][0], image_datasets['train'][830][0], model=models[10])\n",
    "\n",
    "fig, ax = plt.subplots(1,10, figsize=(10,2),\n",
    "                       frameon=False,gridspec_kw={'wspace':0.05, 'width_ratios':[1.25,1,1,1,1,1,1,1,1,1.25]})\n",
    "for i in range(10):\n",
    "    ax[i].imshow(images[i])\n",
    "    ax[i].axis('off')\n",
    "ax[0].set_title(\"Start\")\n",
    "ax[-1].set_title(\"End\")\n",
    "plt.savefig(os.path.join(c.data_home, 'figures', 'tool_none_anatomy_different.png'),bbox_inches='tight', dpi=200, pad_inches=0.0)"
   ]
  },
  {
   "cell_type": "code",
   "execution_count": null,
   "metadata": {},
   "outputs": [],
   "source": [
    "images = v.latent_interpolation(image_datasets['train'][0][0], image_datasets['train'][1200][0], model=models[10])\n",
    "\n",
    "fig, ax = plt.subplots(1,10, figsize=(10,2),\n",
    "                       frameon=False,gridspec_kw={'wspace':0.05, 'width_ratios':[1.25,1,1,1,1,1,1,1,1,1.25]})\n",
    "for i in range(10):\n",
    "    ax[i].imshow(images[i])\n",
    "    ax[i].axis('off')\n",
    "ax[0].set_title(\"Start\")\n",
    "ax[-1].set_title(\"End\")\n",
    "plt.savefig(os.path.join(c.data_home, 'figures', 'tool_different_anatomy_different.png'),bbox_inches='tight', dpi=200, pad_inches=0.0)"
   ]
  },
  {
   "cell_type": "code",
   "execution_count": null,
   "metadata": {},
   "outputs": [],
   "source": [
    "images = v.latent_interpolation(image_datasets['train'][1200][0], image_datasets['train'][830][0], model=models[10])\n",
    "\n",
    "fig, ax = plt.subplots(1,10, figsize=(10,2),\n",
    "                       frameon=False,gridspec_kw={'wspace':0.05, 'width_ratios':[1.25,1,1,1,1,1,1,1,1,1.25]})\n",
    "for i in range(10):\n",
    "    ax[i].imshow(images[i])\n",
    "    ax[i].axis('off')\n",
    "ax[0].set_title(\"Start\")\n",
    "ax[-1].set_title(\"End\")\n",
    "plt.savefig(os.path.join(c.data_home, 'figures', 'tool_different_anatomy_different.png'),bbox_inches='tight', dpi=200, pad_inches=0.0)"
   ]
  },
  {
   "cell_type": "markdown",
   "metadata": {},
   "source": [
    "# Interpolate one latent dimension at a time"
   ]
  },
  {
   "cell_type": "code",
   "execution_count": null,
   "metadata": {},
   "outputs": [],
   "source": [
    "# np.set_printoptions(formatter={'float': '{: 0.3f}'.format})\n",
    "images = v.latent_interpolation_by_dimension(image_datasets['train'][0][0], \n",
    "                                             image_datasets['train'][10][0], \n",
    "                                             model=models[10], \n",
    "                                             zdim=10)\n",
    "\n",
    "fig = plt.figure()\n",
    "plt.imshow(np.vstack(np.hstack(im) for im in images))\n",
    "plt.axis('off')"
   ]
  },
  {
   "cell_type": "markdown",
   "metadata": {},
   "source": [
    "# Interpolate ONLY last three dimensions"
   ]
  },
  {
   "cell_type": "code",
   "execution_count": null,
   "metadata": {},
   "outputs": [],
   "source": []
  },
  {
   "cell_type": "code",
   "execution_count": null,
   "metadata": {},
   "outputs": [],
   "source": []
  },
  {
   "cell_type": "code",
   "execution_count": null,
   "metadata": {},
   "outputs": [],
   "source": []
  },
  {
   "cell_type": "code",
   "execution_count": null,
   "metadata": {},
   "outputs": [],
   "source": []
  },
  {
   "cell_type": "markdown",
   "metadata": {},
   "source": [
    "# Latent space vector addition"
   ]
  },
  {
   "cell_type": "code",
   "execution_count": null,
   "metadata": {},
   "outputs": [],
   "source": [
    "latent_start = v.get_latent_vector(image_datasets['train'][0][0], models[10])\n",
    "latent_end = v.get_latent_vector(image_datasets['train'][10][0], models[10])"
   ]
  },
  {
   "cell_type": "code",
   "execution_count": null,
   "metadata": {},
   "outputs": [],
   "source": [
    "diff = latent_end - latent_start"
   ]
  },
  {
   "cell_type": "code",
   "execution_count": null,
   "metadata": {},
   "outputs": [],
   "source": [
    "result = models[10].decode(diff)\n",
    "result = result.cpu().detach().numpy().squeeze().transpose(1,2,0)"
   ]
  },
  {
   "cell_type": "code",
   "execution_count": null,
   "metadata": {},
   "outputs": [],
   "source": [
    "fig = plt.figure()\n",
    "plt.imshow(np.hstack([image_datasets['train'][0][0].numpy().transpose(1,2,0), image_datasets['train'][10][0].numpy().transpose(1,2,0), result]))"
   ]
  },
  {
   "cell_type": "code",
   "execution_count": null,
   "metadata": {},
   "outputs": [],
   "source": [
    "new_start = v.get_latent_vector(image_datasets['train'][830][0], models[10])\n",
    "new_end = new_start + diff\n",
    "result = models[10].decode(new_end)\n",
    "result = result.cpu().detach().numpy().squeeze().transpose(1,2,0)\n",
    "\n",
    "fig = plt.figure()\n",
    "plt.imshow(np.hstack([image_datasets['train'][830][0].numpy().transpose(1,2,0), result]))"
   ]
  },
  {
   "cell_type": "code",
   "execution_count": null,
   "metadata": {},
   "outputs": [],
   "source": []
  }
 ],
 "metadata": {
  "kernelspec": {
   "display_name": "Python 3",
   "language": "python",
   "name": "python3"
  },
  "language_info": {
   "codemirror_mode": {
    "name": "ipython",
    "version": 3
   },
   "file_extension": ".py",
   "mimetype": "text/x-python",
   "name": "python",
   "nbconvert_exporter": "python",
   "pygments_lexer": "ipython3",
   "version": "3.6.5"
  }
 },
 "nbformat": 4,
 "nbformat_minor": 2
}
