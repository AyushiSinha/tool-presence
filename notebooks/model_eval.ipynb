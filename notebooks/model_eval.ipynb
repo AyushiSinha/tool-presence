{
 "cells": [
  {
   "cell_type": "code",
   "execution_count": null,
   "metadata": {},
   "outputs": [],
   "source": [
    "%matplotlib inline\n",
    "%load_ext autoreload\n",
    "%autoreload 2"
   ]
  },
  {
   "cell_type": "code",
   "execution_count": null,
   "metadata": {},
   "outputs": [],
   "source": [
    "import argparse\n",
    "import os\n",
    "import sys\n",
    "import numpy as np\n",
    "import torch\n",
    "from matplotlib import pyplot as plt\n",
    "import pandas as pd"
   ]
  },
  {
   "cell_type": "code",
   "execution_count": null,
   "metadata": {},
   "outputs": [],
   "source": [
    "module_path = os.path.abspath(os.path.join('/users/dli44/tool-presence'))\n",
    "if module_path not in sys.path:\n",
    "    sys.path.append(module_path)\n",
    "\n",
    "from src import constants as c\n",
    "from src import utils\n",
    "from src import visualization as v\n",
    "from src import model as m"
   ]
  },
  {
   "cell_type": "code",
   "execution_count": null,
   "metadata": {},
   "outputs": [],
   "source": [
    "parser = utils.setup_argparse()\n",
    "args = parser.parse_args(args=['--root=/users/dli44/tool-presence/',\n",
    "                               '--data-dir=data/youtube_data/',\n",
    "                               '--image-size=64',\n",
    "                               '--loss-function=mmd',\n",
    "                               '--z-dim=64'\n",
    "                              ])\n",
    "datasets, dataloaders = utils.setup_data(args, augmentation=False)"
   ]
  },
  {
   "cell_type": "code",
   "execution_count": null,
   "metadata": {},
   "outputs": [],
   "source": [
    "model_paths = ['data/mmd_vae/mmd_beta_1.0_epoch_50.torch', #mmd_vae\n",
    "          'data/weights/beta_vae/augmentation_2fc/augment_beta_1_2fc_epoch_50.torch', #standard vae\n",
    "          'data/weights/beta_vae/augmentation_2fc/augment_beta_5_2fc_epoch_50.torch', #beta = 5\n",
    "          'data/weights/beta_vae/augmentation_2fc/augment_beta_20_2fc_epoch_50.torch',#beta = 20\n",
    "          'data/weights/beta_vae/augmentation_2fc/augment_beta_50_2fc_epoch_50.torch',#beta = 50\n",
    "         ]"
   ]
  },
  {
   "cell_type": "code",
   "execution_count": null,
   "metadata": {},
   "outputs": [],
   "source": [
    "del model\n",
    "torch.cuda.empty_cache()\n",
    "gc.collect()"
   ]
  },
  {
   "cell_type": "code",
   "execution_count": null,
   "metadata": {},
   "outputs": [],
   "source": [
    "import gc\n",
    "for obj in gc.get_objects():\n",
    "    try:\n",
    "        if torch.is_tensor(obj) or (hasattr(obj, 'data') and torch.is_tensor(obj.data)):\n",
    "            print(type(obj), obj.size())\n",
    "    except:\n",
    "        pass"
   ]
  },
  {
   "cell_type": "code",
   "execution_count": null,
   "metadata": {},
   "outputs": [],
   "source": [
    "pxs = []\n",
    "\n",
    "for path in model_paths:\n",
    "    model = m.VAE(image_channels=args.image_channels,\n",
    "              image_size=args.image_size,\n",
    "              h_dim1=1024,\n",
    "              h_dim2=128,\n",
    "              zdim=args.z_dim).to(c.device)\n",
    "    model.load_state_dict(torch.load(os.path.join(args.root, path)))\n",
    "    print(path)\n",
    "\n",
    "    logpx = utils.estimate_logpx(dataloaders['val'], model, args, 128)\n",
    "    pxs.append(np.nanmean(logpx))\n",
    "    \n",
    "    # Free GPU memory\n",
    "    del model\n",
    "    torch.cuda.empty_cache()\n",
    "    foo = range(10000000)\n",
    "    del foo\n",
    "    gc.collect()"
   ]
  },
  {
   "cell_type": "code",
   "execution_count": null,
   "metadata": {},
   "outputs": [],
   "source": [
    "pxs"
   ]
  },
  {
   "cell_type": "code",
   "execution_count": null,
   "metadata": {},
   "outputs": [],
   "source": [
    "load_model = True\n",
    "model_name = \"mmd_beta_1.0_epoch_50.torch\"\n",
    "model_path = os.path.join(args.root, 'data/mmd_vae', model_name)\n",
    "if load_model:\n",
    "    model.load_state_dict(torch.load(model_path))"
   ]
  },
  {
   "cell_type": "code",
   "execution_count": null,
   "metadata": {},
   "outputs": [],
   "source": [
    "fig = plt.figure()\n",
    "plt.title(\"Initial Images\\nStart, End\")\n",
    "plt.imshow(np.hstack([datasets['val'][1][0].numpy().transpose(1,2,0), \n",
    "                      datasets['val'][9][0].numpy().transpose(1,2,0)]))"
   ]
  },
  {
   "cell_type": "code",
   "execution_count": null,
   "metadata": {},
   "outputs": [],
   "source": [
    "fig = plt.figure()\n",
    "recon1, z, _, _ = model(datasets['val'][1][0].unsqueeze(0).to(c.device))\n",
    "recon2, z, _, _ = model(datasets['val'][9][0].unsqueeze(0).to(c.device))\n",
    "\n",
    "recon1 = utils.torch_to_image(recon1)\n",
    "recon2 = utils.torch_to_image(recon2)\n",
    "\n",
    "originals = np.hstack([utils.torch_to_image(datasets['val'][1][0]), \n",
    "                       utils.torch_to_image(datasets['val'][9][0])])\n",
    "recons = np.hstack([recon1, recon2])\n",
    "\n",
    "plt.imshow(np.vstack([originals, recons]))"
   ]
  },
  {
   "cell_type": "code",
   "execution_count": null,
   "metadata": {},
   "outputs": [],
   "source": [
    "images = v.latent_interpolation(datasets['val'][1][0], \n",
    "                                datasets['val'][9][0], \n",
    "                                model=model)\n",
    "\n",
    "fig = v.plot_interpolation(images, \"Interpolation\\nBeta=5\")\n",
    "\n",
    "plt.savefig(os.path.join(args.root,\n",
    "                         'data/mmd_vae',\n",
    "                         'mmd_tool_motion.png'), bbox_inches='tight', dpi=400, pad_inches=0.0)"
   ]
  },
  {
   "cell_type": "code",
   "execution_count": null,
   "metadata": {},
   "outputs": [],
   "source": [
    "a = utils.torch_to_numpy(v.get_latent_vector(datasets['val'][1][0], model))[0]\n",
    "b = utils.torch_to_numpy(v.get_latent_vector(datasets['val'][9][0], model))[0]\n",
    "diff = a-b"
   ]
  },
  {
   "cell_type": "code",
   "execution_count": null,
   "metadata": {},
   "outputs": [],
   "source": [
    "for zdim in range(args.z_dim):\n",
    "    images = v.explore_latent_dimension(datasets['val'][1][0], model, zdim=zdim)\n",
    "    v.plot_interpolation(images, title='z = {}'.format(zdim))"
   ]
  },
  {
   "cell_type": "code",
   "execution_count": null,
   "metadata": {},
   "outputs": [],
   "source": []
  }
 ],
 "metadata": {
  "kernelspec": {
   "display_name": "Python 3",
   "language": "python",
   "name": "python3"
  },
  "language_info": {
   "codemirror_mode": {
    "name": "ipython",
    "version": 3
   },
   "file_extension": ".py",
   "mimetype": "text/x-python",
   "name": "python",
   "nbconvert_exporter": "python",
   "pygments_lexer": "ipython3",
   "version": "3.6.8"
  }
 },
 "nbformat": 4,
 "nbformat_minor": 2
}
