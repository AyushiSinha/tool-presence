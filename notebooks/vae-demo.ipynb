{
 "cells": [
  {
   "cell_type": "code",
   "execution_count": null,
   "metadata": {},
   "outputs": [],
   "source": [
    "# !pip install notify_run\n",
    "%matplotlib notebook \n",
    "%load_ext autoreload\n",
    "%autoreload 2\n",
    "\n",
    "# from google.colab import drive\n",
    "# drive.mount('/content/gdrive')"
   ]
  },
  {
   "cell_type": "markdown",
   "metadata": {},
   "source": [
    "# Setup"
   ]
  },
  {
   "cell_type": "code",
   "execution_count": null,
   "metadata": {},
   "outputs": [],
   "source": [
    "import numpy as np\n",
    "\n",
    "import torch\n",
    "import torch.nn as nn\n",
    "import torch.nn.functional as F\n",
    "import torch.optim as optim\n",
    "from torch.utils.data import Dataset, DataLoader\n",
    "from torch.utils.data.sampler import SubsetRandomSampler\n",
    "\n",
    "import torchvision\n",
    "from torchvision import datasets, transforms\n",
    "from torchvision.utils import save_image\n",
    "\n",
    "from tqdm import tqdm, tnrange, tqdm_notebook\n",
    "from notify_run import Notify"
   ]
  },
  {
   "cell_type": "code",
   "execution_count": null,
   "metadata": {},
   "outputs": [],
   "source": [
    "notify = Notify()\n",
    "# notify.register()"
   ]
  },
  {
   "cell_type": "code",
   "execution_count": null,
   "metadata": {},
   "outputs": [],
   "source": [
    "import sys\n",
    "import os\n",
    "\n",
    "module_path = os.path.abspath(os.path.join('..'))\n",
    "if module_path not in sys.path:\n",
    "    sys.path.append(module_path)"
   ]
  },
  {
   "cell_type": "code",
   "execution_count": null,
   "metadata": {},
   "outputs": [],
   "source": [
    "from src import constants as c\n",
    "from src.model import VAE"
   ]
  },
  {
   "cell_type": "markdown",
   "metadata": {},
   "source": [
    "# Dataset Initialization"
   ]
  },
  {
   "cell_type": "code",
   "execution_count": null,
   "metadata": {},
   "outputs": [],
   "source": [
    "#Tools Dataset\n",
    "dataset = torchvision.datasets.ImageFolder(os.path.join(c.data_home, \"surgical_data/\"),\n",
    "                                           transform=transforms.Compose([\n",
    "                                               transforms.Resize(c.image_size),\n",
    "                                               transforms.CenterCrop(c.image_size),\n",
    "                                               transforms.ToTensor()\n",
    "                                           ]))\n",
    "\n",
    "dataset_size = len(dataset)\n",
    "indices = list(range(dataset_size))\n",
    "split = int(np.floor(c.validation_split * dataset_size))\n",
    "\n",
    "np.random.seed(c.seed)\n",
    "np.random.shuffle(indices)\n",
    "train_indices, val_indices = indices[split:], indices[:split]\n",
    "\n",
    "# Creating PT data samplers and loaders:\n",
    "train_sampler = SubsetRandomSampler(train_indices)\n",
    "valid_sampler = SubsetRandomSampler(val_indices)\n",
    "\n",
    "\n",
    "train_loader = DataLoader(dataset=dataset,\n",
    "                          batch_size=c.batch_size, \n",
    "                          shuffle=False,\n",
    "                          sampler=train_sampler)\n",
    "\n",
    "test_loader = DataLoader(dataset=dataset,\n",
    "                         batch_size=c.batch_size, \n",
    "                         sampler=valid_sampler,\n",
    "                         shuffle=False)"
   ]
  },
  {
   "cell_type": "markdown",
   "metadata": {},
   "source": [
    "# Training setup"
   ]
  },
  {
   "cell_type": "code",
   "execution_count": null,
   "metadata": {},
   "outputs": [],
   "source": [
    "def loss_function(recon_x, x, mu, log_var):\n",
    "    BCE = F.binary_cross_entropy(recon_x, x, reduction='sum')\n",
    "    KLD = -0.5 * torch.sum(1 + log_var - mu.pow(2) - log_var.exp())\n",
    "    return BCE + KLD"
   ]
  },
  {
   "cell_type": "code",
   "execution_count": null,
   "metadata": {},
   "outputs": [],
   "source": [
    "for zdim in [2,5,10,15]:\n",
    "\n",
    "    model = VAE(image_channels=c.image_channels,\n",
    "                image_size=c.image_size, \n",
    "                h_dim1=1024,\n",
    "                h_dim2=128,\n",
    "                zdim=zdim).to(c.device)\n",
    "    \n",
    "    optimizer = optim.Adam(model.parameters(), lr=1e-3)\n",
    "    \n",
    "    for epoch in tqdm_notebook(range(50)):\n",
    "        notify.send(\"z-dim = {}, Training Epoch {}\".format(zdim, epoch+1))\n",
    "        \n",
    "        \"\"\"\n",
    "        Training\n",
    "        \"\"\"\n",
    "        model.train()\n",
    "        train_loss = 0\n",
    "        for batch_idx, (data, _) in enumerate(train_loader):\n",
    "            data = data.to(c.device)\n",
    "            optimizer.zero_grad()\n",
    "            recon_batch, mu, logvar = model(data)\n",
    "            loss = loss_function(recon_batch, data, mu, logvar)\n",
    "            loss.backward()\n",
    "            train_loss += loss.item()\n",
    "            optimizer.step()\n",
    "\n",
    "            if batch_idx % c.log_interval == 0:\n",
    "                tqdm.write('Train Epoch: {} [{}/{} ({:.0f}%)]\\tLoss: {:.6f}'.format(\n",
    "                    epoch, batch_idx * len(data), len(train_loader.dataset),\n",
    "                           100. * batch_idx / len(train_loader),\n",
    "                           loss.item() / len(data)))\n",
    "\n",
    "        tqdm.write('====> Epoch: {} Average loss: {:.4f}'.format(\n",
    "            epoch, train_loss / len(train_loader.dataset)))\n",
    "\n",
    "        \"\"\"\n",
    "        Testing\n",
    "        \"\"\"\n",
    "        model.eval()\n",
    "        test_loss = 0\n",
    "        with torch.no_grad():\n",
    "            for i, (data, _) in enumerate(test_loader):\n",
    "                data = data.to(c.device)\n",
    "                recon_batch, mu, logvar = model(data)\n",
    "                test_loss += loss_function(recon_batch, data, mu, logvar).item()\n",
    "                if i == 0:\n",
    "                    n = min(data.size(0), 8)\n",
    "                    comparison = torch.cat([data[:n],\n",
    "                                            recon_batch.view(batch_size, 3, 64, 64)[:n]])\n",
    "\n",
    "                    save_image(comparison.cpu(),\n",
    "                               data_home + 'samples/reconstruction_epoch_{}_zdim_{}.png'.format(epoch, zdim), nrow=n)\n",
    "        \n",
    "    torch.save(model.state_dict(), c.data_home + \"weights/mnist_vae_{}_epochs_{}_zdim_{}.torch\".format(c.image_size, \n",
    "                                                                                                     epochs, \n",
    "                                                                                                     zdim))\n",
    "\n",
    "    with torch.no_grad():\n",
    "        z = torch.randn(64, zdim)\n",
    "        sample = model.decode(z.to(c.device))\n",
    "        save_image(sample.view(64, \n",
    "                               c.image_channels, \n",
    "                               c.image_size, \n",
    "                               c.image_size).cpu(), \n",
    "                   c.data_home + 'figures/latent_space_random_{}_epochs_{}_zdim_{}.png'.format(c.image_size, \n",
    "                                                                                            epochs, \n",
    "                                                                                            zdim))"
   ]
  },
  {
   "cell_type": "markdown",
   "metadata": {},
   "source": [
    "# Model evaluation"
   ]
  },
  {
   "cell_type": "code",
   "execution_count": null,
   "metadata": {},
   "outputs": [],
   "source": [
    "import pandas as pd\n",
    "from sklearn import decomposition, manifold\n",
    "from matplotlib import pyplot as plt\n",
    "from mpl_toolkits.mplot3d import Axes3D"
   ]
  },
  {
   "cell_type": "code",
   "execution_count": null,
   "metadata": {},
   "outputs": [],
   "source": [
    "models = {zdim: VAE(image_channels=c.image_channels,\n",
    "                    image_size=c.image_size, \n",
    "                    h_dim1=1024,\n",
    "                    h_dim2=128,\n",
    "                    zdim=zdim).to(c.device) for zdim in [5]}"
   ]
  },
  {
   "cell_type": "code",
   "execution_count": null,
   "metadata": {},
   "outputs": [],
   "source": [
    "models[5]"
   ]
  },
  {
   "cell_type": "code",
   "execution_count": null,
   "metadata": {},
   "outputs": [],
   "source": [
    "for zdim, model in models.items():\n",
    "    model.load_state_dict(torch.load(c.data_home + \"weights/tools_64_epochs_50_zdim_{}.torch\".format(zdim)))"
   ]
  },
  {
   "cell_type": "markdown",
   "metadata": {},
   "source": [
    "## Saving latent space encodings"
   ]
  },
  {
   "cell_type": "code",
   "execution_count": null,
   "metadata": {},
   "outputs": [],
   "source": [
    "encoded_inputs = {zdim: [] for zdim in [5]}\n",
    "\n",
    "with torch.no_grad():\n",
    "    for zdim in tqdm_notebook(encoded_inputs):\n",
    "        z = torch.randn(64, zdim)\n",
    "        for batch_idx, (data, _) in enumerate(tqdm_notebook(train_loader)):\n",
    "            data = data.to(c.device)\n",
    "            latent_vector = models[5].sampling(*models[5].encode(data)).cpu().detach().numpy()\n",
    "            encoded_inputs[zdim].extend([ar[0] for ar in np.split(latent_vector, data.shape[0])])"
   ]
  },
  {
   "cell_type": "code",
   "execution_count": null,
   "metadata": {},
   "outputs": [],
   "source": [
    "latent_space = pd.concat({zdim: pd.DataFrame(encoded_inputs[zdim]) for zdim in [5]})\n",
    "latent_space.head()"
   ]
  },
  {
   "cell_type": "markdown",
   "metadata": {},
   "source": [
    "## PCA on latent space"
   ]
  },
  {
   "cell_type": "code",
   "execution_count": null,
   "metadata": {},
   "outputs": [],
   "source": [
    "pca = decomposition.PCA(n_components=3)"
   ]
  },
  {
   "cell_type": "code",
   "execution_count": null,
   "metadata": {},
   "outputs": [],
   "source": [
    "for zdim in [5]:\n",
    "    pca = decomposition.PCA(n_components=3)\n",
    "    pca_result = pca.fit_transform(latent_space.loc[zdim][[0,1,2,3,4]].values)\n",
    "    latent_space.loc[zdim,'pc1'] = pca_result[:,0]\n",
    "    latent_space.loc[zdim,'pc2'] = pca_result[:,1]\n",
    "    latent_space.loc[zdim,'pc3'] = pca_result[:,2]\n",
    "    print('z={}:\\tExplained variation per principal component: {} {}'.format(zdim, sum(pca.explained_variance_ratio_),pca.explained_variance_ratio_))"
   ]
  },
  {
   "cell_type": "code",
   "execution_count": null,
   "metadata": {},
   "outputs": [],
   "source": [
    "fig = plt.figure()\n",
    "ax = fig.add_subplot(111, projection='3d')\n",
    "ax.scatter(latent_space.loc[5]['pc1'], latent_space.loc[5]['pc2'], latent_space.loc[5]['pc3'])\n",
    "plt.title(\"Scatter Plot of Principal Components of 5-dimensional latent space\")\n",
    "plt.show()"
   ]
  },
  {
   "cell_type": "code",
   "execution_count": null,
   "metadata": {},
   "outputs": [],
   "source": [
    "def imscatter(x, y, ax, imageData, zoom):\n",
    "    images = []\n",
    "    for i in range(len(x)):\n",
    "        x0, y0 = x[i], y[i]\n",
    "        # Convert to image\n",
    "        img = imageData[i]*255.\n",
    "        img = img.astype(np.uint8).reshape([c.image_size,c.image_size])\n",
    "\n",
    "        image = OffsetImage(img, zoom=zoom)\n",
    "        ab = AnnotationBbox(image, (x0, y0), xycoords='data', frameon=False)\n",
    "        images.append(ax.add_artist(ab))\n",
    "    \n",
    "    ax.update_datalim(np.column_stack([x, y]))\n",
    "    ax.autoscale()"
   ]
  },
  {
   "cell_type": "markdown",
   "metadata": {},
   "source": [
    "## T-SNE on latent space"
   ]
  },
  {
   "cell_type": "code",
   "execution_count": null,
   "metadata": {},
   "outputs": [],
   "source": [
    "for zdim in [5]:\n",
    "    tsne_result = manifold.TSNE(n_components=2).fit_transform(latent_space.loc[zdim][[0,1,2,3,4]])\n",
    "    latent_space.loc[zdim, 'tsne1'] = tsne_result[:,0]\n",
    "    latent_space.loc[zdim, 'tsne2'] = tsne_result[:,1]"
   ]
  },
  {
   "cell_type": "code",
   "execution_count": null,
   "metadata": {},
   "outputs": [],
   "source": [
    "fig = plt.figure()\n",
    "ax = fig.add_subplot(111)\n",
    "ax.scatter(latent_space.loc[5]['tsne1'], latent_space.loc[5]['tsne2'])"
   ]
  },
  {
   "cell_type": "code",
   "execution_count": null,
   "metadata": {},
   "outputs": [],
   "source": []
  }
 ],
 "metadata": {
  "kernelspec": {
   "display_name": "Python 3",
   "language": "python",
   "name": "python3"
  },
  "language_info": {
   "codemirror_mode": {
    "name": "ipython",
    "version": 3
   },
   "file_extension": ".py",
   "mimetype": "text/x-python",
   "name": "python",
   "nbconvert_exporter": "python",
   "pygments_lexer": "ipython3",
   "version": "3.6.5"
  }
 },
 "nbformat": 4,
 "nbformat_minor": 2
}
