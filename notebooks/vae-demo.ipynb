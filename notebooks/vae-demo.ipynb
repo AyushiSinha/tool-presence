{
 "cells": [
  {
   "cell_type": "code",
   "execution_count": null,
   "metadata": {},
   "outputs": [],
   "source": [
    "# !pip install notify_run\n",
    "%matplotlib notebook \n",
    "%load_ext autoreload\n",
    "%autoreload 2\n",
    "\n",
    "# from google.colab import drive\n",
    "# drive.mount('/content/gdrive')"
   ]
  },
  {
   "cell_type": "markdown",
   "metadata": {},
   "source": [
    "# Setup"
   ]
  },
  {
   "cell_type": "code",
   "execution_count": null,
   "metadata": {},
   "outputs": [],
   "source": [
    "import numpy as np\n",
    "\n",
    "import torch\n",
    "import torch.nn as nn\n",
    "import torch.nn.functional as F\n",
    "import torch.optim as optim\n",
    "from torch.utils.data import Dataset, DataLoader\n",
    "from torch.utils.data.sampler import SubsetRandomSampler\n",
    "\n",
    "import torchvision\n",
    "from torchvision import datasets, transforms\n",
    "from torchvision.utils import save_image\n",
    "\n",
    "from tqdm import tqdm, tnrange, tqdm_notebook\n",
    "from notify_run import Notify"
   ]
  },
  {
   "cell_type": "code",
   "execution_count": null,
   "metadata": {},
   "outputs": [],
   "source": [
    "notify = Notify()\n",
    "# notify.register()"
   ]
  },
  {
   "cell_type": "code",
   "execution_count": null,
   "metadata": {},
   "outputs": [],
   "source": [
    "import sys\n",
    "import os\n",
    "\n",
    "module_path = os.path.abspath(os.path.join('..'))\n",
    "if module_path not in sys.path:\n",
    "    sys.path.append(module_path)"
   ]
  },
  {
   "cell_type": "code",
   "execution_count": null,
   "metadata": {},
   "outputs": [],
   "source": [
    "from src import constants as c\n",
    "from src.model import VAE\n",
    "from src import visualization as v"
   ]
  },
  {
   "cell_type": "markdown",
   "metadata": {},
   "source": [
    "# Dataset Initialization"
   ]
  },
  {
   "cell_type": "code",
   "execution_count": null,
   "metadata": {},
   "outputs": [],
   "source": [
    "data_transforms = transforms.Compose([\n",
    "    transforms.Resize(c.image_size),\n",
    "    transforms.CenterCrop(c.image_size),\n",
    "    transforms.ToTensor()\n",
    "])\n",
    "\n",
    "image_datasets = {x: datasets.ImageFolder(os.path.join(c.data_home, 'surgical_data/',x),\n",
    "                                          data_transforms)\n",
    "                  for x in ['train', 'val']}\n",
    "dataloaders = {x: torch.utils.data.DataLoader(image_datasets[x], \n",
    "                                              batch_size=c.batch_size,\n",
    "                                              shuffle=True)\n",
    "               for x in ['train', 'val']}"
   ]
  },
  {
   "cell_type": "markdown",
   "metadata": {},
   "source": [
    "# Training setup"
   ]
  },
  {
   "cell_type": "code",
   "execution_count": null,
   "metadata": {},
   "outputs": [],
   "source": [
    "def loss_function(recon_x, x, mu, log_var):\n",
    "    BCE = F.binary_cross_entropy(recon_x, x, reduction='sum')\n",
    "    KLD = -0.5 * torch.sum(1 + log_var - mu.pow(2) - log_var.exp())\n",
    "    return BCE, KLD"
   ]
  },
  {
   "cell_type": "code",
   "execution_count": null,
   "metadata": {},
   "outputs": [],
   "source": [
    "# for zdim in [2,5,10,15]:\n",
    "for zdim in [2]:\n",
    "\n",
    "    model = VAE(image_channels=c.image_channels,\n",
    "                image_size=c.image_size, \n",
    "                h_dim1=1024,\n",
    "                h_dim2=128,\n",
    "                zdim=zdim).to(c.device)\n",
    "    \n",
    "    optimizer = optim.Adam(model.parameters(), lr=1e-3)\n",
    "    \n",
    "    for epoch in tqdm_notebook(range(50)):\n",
    "        notify.send(\"z-dim = {}, Training Epoch {}\".format(zdim, epoch+1))\n",
    "        \n",
    "        \"\"\"\n",
    "        Training\n",
    "        \"\"\"\n",
    "        model.train()\n",
    "        train_loss = 0\n",
    "        for batch_idx, (data, _) in enumerate(tqdm_notebook(dataloaders['train'])):\n",
    "            data = data.to(c.device)\n",
    "            optimizer.zero_grad()\n",
    "            recon_batch, mu, logvar = model(data)\n",
    "            bce, kld = loss_function(recon_batch, data, mu, logvar)\n",
    "            loss = bce + kld\n",
    "            loss.backward()\n",
    "            train_loss += loss.item()\n",
    "            optimizer.step()\n",
    "\n",
    "            if batch_idx % c.log_interval == 0:\n",
    "                tqdm.write('Train Epoch: {} [{}/{} ({:.0f}%)]\\tLoss: {:.6f}\\tKL-Divergence: {:.6f}'.format(\n",
    "                    epoch,\n",
    "                    batch_idx * len(data), \n",
    "                    len(dataloaders['train'].dataset),\n",
    "                    100. * batch_idx / len(dataloaders['train']),\n",
    "                    loss.item() / len(data),\n",
    "                    kld.item() / len(data)))\n",
    "\n",
    "        tqdm.write('====> Epoch: {} Average loss: {:.4f}'.format(\n",
    "            epoch, \n",
    "            train_loss / len(dataloaders['train'].dataset)))\n",
    "\n",
    "        \"\"\"\n",
    "        Testing\n",
    "        \"\"\"\n",
    "        model.eval()\n",
    "        test_loss = 0\n",
    "        with torch.no_grad():\n",
    "            for i, (data, _) in enumerate(tqdm_notebook(dataloaders['val'])):\n",
    "                data = data.to(c.device)\n",
    "                recon_batch, mu, logvar = model(data)\n",
    "                test_loss += loss_function(recon_batch, data, mu, logvar).item()\n",
    "                if i == 0:\n",
    "                    n = min(data.size(0), 8)\n",
    "                    comparison = torch.cat([data[:n],\n",
    "                                            recon_batch.view(batch_size, 3, 64, 64)[:n]])\n",
    "\n",
    "                    save_image(comparison.cpu(),\n",
    "                               data_home + 'samples/reconstruction_epoch_{}_zdim_{}.png'.format(epoch, zdim), nrow=n)\n",
    "        \n",
    "    torch.save(model.state_dict(), c.data_home + \"weights/tools_vae_{}_epochs_{}_zdim_{}.torch\".format(c.image_size, \n",
    "                                                                                                       epochs, \n",
    "                                                                                                       zdim))\n",
    "\n",
    "    with torch.no_grad():\n",
    "        z = torch.randn(64, zdim)\n",
    "        sample = model.decode(z.to(c.device))\n",
    "        save_image(sample.view(64, \n",
    "                               c.image_channels, \n",
    "                               c.image_size, \n",
    "                               c.image_size).cpu(), \n",
    "                   c.data_home + 'figures/latent_space_random_{}_epochs_{}_zdim_{}.png'.format(c.image_size, \n",
    "                                                                                            epochs, \n",
    "                                                                                            zdim))"
   ]
  },
  {
   "cell_type": "markdown",
   "metadata": {},
   "source": [
    "# Model evaluation"
   ]
  },
  {
   "cell_type": "code",
   "execution_count": null,
   "metadata": {},
   "outputs": [],
   "source": [
    "import pandas as pd\n",
    "from sklearn import decomposition, manifold\n",
    "from matplotlib import pyplot as plt\n",
    "from mpl_toolkits.mplot3d import Axes3D"
   ]
  },
  {
   "cell_type": "code",
   "execution_count": null,
   "metadata": {},
   "outputs": [],
   "source": [
    "models = {zdim: VAE(image_channels=c.image_channels,\n",
    "                    image_size=c.image_size, \n",
    "                    h_dim1=1024,\n",
    "                    h_dim2=128,\n",
    "                    zdim=zdim).to(c.device) for zdim in [5]}"
   ]
  },
  {
   "cell_type": "code",
   "execution_count": null,
   "metadata": {},
   "outputs": [],
   "source": [
    "models[5]"
   ]
  },
  {
   "cell_type": "code",
   "execution_count": null,
   "metadata": {},
   "outputs": [],
   "source": [
    "for zdim, model in models.items():\n",
    "    model.load_state_dict(torch.load(c.data_home + \"weights/tools_vae_{}_epoch_50_zdim_{}.torch\".format(c.image_size,\n",
    "                                                                                                        zdim)))"
   ]
  },
  {
   "cell_type": "markdown",
   "metadata": {},
   "source": [
    "## Saving latent space encodings"
   ]
  },
  {
   "cell_type": "code",
   "execution_count": null,
   "metadata": {},
   "outputs": [],
   "source": [
    "labels = pd.read_csv(os.path.join(c.data_home, 'surgical_data/', 'surgical_labels.csv'))"
   ]
  },
  {
   "cell_type": "code",
   "execution_count": null,
   "metadata": {},
   "outputs": [],
   "source": [
    "encoded_inputs = {zdim: [] for zdim in [5]}\n",
    "\n",
    "with torch.no_grad():\n",
    "    for zdim in tqdm_notebook(encoded_inputs):\n",
    "        for index in tnrange(len(image_datasets['train'])):\n",
    "            data = image_datasets['train'][index][0].view(-1, c.image_channels, c.image_size, c.image_size).to(c.device)\n",
    "            latent_vector = models[zdim].sampling(*models[zdim].encode(data)).cpu().detach().numpy()\n",
    "            encoded_inputs[zdim].extend([ar[0] for ar in np.split(latent_vector, data.shape[0])])\n",
    "            \n",
    "        for index in tnrange(len(image_datasets['val'])):\n",
    "            data = image_datasets['val'][index][0].view(-1, c.image_channels, c.image_size, c.image_size).to(c.device)\n",
    "            latent_vector = models[zdim].sampling(*models[zdim].encode(data)).cpu().detach().numpy()\n",
    "            encoded_inputs[zdim].extend([ar[0] for ar in np.split(latent_vector, data.shape[0])])"
   ]
  },
  {
   "cell_type": "code",
   "execution_count": null,
   "metadata": {},
   "outputs": [],
   "source": [
    "latent_space = pd.concat({zdim: pd.concat([pd.DataFrame(encoded_inputs[zdim]), labels], axis=1) for zdim in [5]})\n",
    "latent_space.head()"
   ]
  },
  {
   "cell_type": "code",
   "execution_count": null,
   "metadata": {},
   "outputs": [],
   "source": [
    "latent_space.to_csv(os.path.join(c.data_home,'latent_space_zdim_5.csv'))"
   ]
  },
  {
   "cell_type": "markdown",
   "metadata": {},
   "source": [
    "## PCA on latent space"
   ]
  },
  {
   "cell_type": "code",
   "execution_count": null,
   "metadata": {},
   "outputs": [],
   "source": [
    "for zdim in [5]:\n",
    "    components=5\n",
    "    pca = decomposition.PCA(n_components=components)\n",
    "    pca_result = pca.fit_transform(latent_space.loc[zdim][[0,1,2,3,4]].values)\n",
    "    for i in range(components):\n",
    "        latent_space.loc[zdim,'pc{}'.format(i+1)] = pca_result[:,i]\n",
    "    print('z={}:\\tExplained variation per principal component: {} {}'.format(zdim, sum(pca.explained_variance_ratio_),pca.explained_variance_ratio_))"
   ]
  },
  {
   "cell_type": "code",
   "execution_count": null,
   "metadata": {},
   "outputs": [],
   "source": [
    "fig = v.plot_pca(5, latent_space.loc[5])\n",
    "fig.savefig('./pca_zdim_5.png')"
   ]
  },
  {
   "cell_type": "code",
   "execution_count": null,
   "metadata": {},
   "outputs": [],
   "source": [
    "fig, ax = plt.subplots()\n",
    "v.imscatter(latent_space.loc[5]['pc1'], \n",
    "          latent_space.loc[5]['pc2'], \n",
    "          data=image_datasets['train'], \n",
    "          ax=ax, \n",
    "          zoom=0.25\n",
    "         )\n",
    "\n",
    "plt.show()"
   ]
  },
  {
   "cell_type": "markdown",
   "metadata": {},
   "source": [
    "## PCA on Latent space (n=3)"
   ]
  },
  {
   "cell_type": "code",
   "execution_count": null,
   "metadata": {},
   "outputs": [],
   "source": [
    "fig = plt.figure()\n",
    "ax = fig.add_subplot(111, projection='3d')\n",
    "scatter = ax.scatter(latent_space.loc[5]['pc1'], \n",
    "                     latent_space.loc[5]['pc2'], \n",
    "                     latent_space.loc[5]['pc3'], \n",
    "                     c=latent_space.loc[5]['Tool'], cmap='brg')\n",
    "colorbar = fig.colorbar(scatter, ax=ax)\n",
    "ax.set_xlabel('Principal Component 1')\n",
    "ax.set_ylabel('Principal Component 2')\n",
    "plt.title(\"Scatter Plot of Principal Components of 5-dimensional latent space\")\n",
    "plt.show()"
   ]
  },
  {
   "cell_type": "code",
   "execution_count": null,
   "metadata": {},
   "outputs": [],
   "source": [
    "fig, ax = plt.subplots()\n",
    "v.imscatter(latent_space.loc[5]['pc1'], \n",
    "          latent_space.loc[5]['pc2'], \n",
    "          data=image_datasets['train'], \n",
    "          ax=ax, \n",
    "          zoom=0.25\n",
    "         )\n",
    "\n",
    "plt.show()"
   ]
  },
  {
   "cell_type": "markdown",
   "metadata": {},
   "source": [
    "## T-SNE on latent space"
   ]
  },
  {
   "cell_type": "code",
   "execution_count": null,
   "metadata": {},
   "outputs": [],
   "source": [
    "for zdim in [5]:\n",
    "    tsne_result = manifold.TSNE(n_components=2).fit_transform(latent_space.loc[zdim][[0,1,2,3,4]])\n",
    "    latent_space.loc[zdim, 'tsne1'] = tsne_result[:,0]\n",
    "    latent_space.loc[zdim, 'tsne2'] = tsne_result[:,1]"
   ]
  },
  {
   "cell_type": "code",
   "execution_count": null,
   "metadata": {},
   "outputs": [],
   "source": [
    "fig = plt.figure()\n",
    "ax = fig.add_subplot(111)\n",
    "scatter = ax.scatter(latent_space.loc[5]['tsne1'], latent_space.loc[5]['tsne2'], c=latent_space.loc[5]['Tool'], cmap='brg')\n",
    "plt.show()"
   ]
  },
  {
   "cell_type": "code",
   "execution_count": null,
   "metadata": {},
   "outputs": [],
   "source": [
    "latent_space.to_csv(c.data_home + 'latent_space_zdim_5.csv')"
   ]
  },
  {
   "cell_type": "code",
   "execution_count": null,
   "metadata": {},
   "outputs": [],
   "source": [
    "fig, ax = plt.subplots()\n",
    "v.imscatter(latent_space.loc[5]['tsne1'], \n",
    "          latent_space.loc[5]['tsne2'], \n",
    "          data=image_datasets['train'], \n",
    "          ax=ax, \n",
    "          zoom=0.25)\n",
    "\n",
    "plt.show()"
   ]
  }
 ],
 "metadata": {
  "kernelspec": {
   "display_name": "Python 3",
   "language": "python",
   "name": "python3"
  },
  "language_info": {
   "codemirror_mode": {
    "name": "ipython",
    "version": 3
   },
   "file_extension": ".py",
   "mimetype": "text/x-python",
   "name": "python",
   "nbconvert_exporter": "python",
   "pygments_lexer": "ipython3",
   "version": "3.6.5"
  }
 },
 "nbformat": 4,
 "nbformat_minor": 2
}
