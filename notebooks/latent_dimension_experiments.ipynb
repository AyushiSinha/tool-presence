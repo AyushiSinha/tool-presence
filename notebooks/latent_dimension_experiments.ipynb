{
 "cells": [
  {
   "cell_type": "code",
   "execution_count": null,
   "metadata": {},
   "outputs": [],
   "source": [
    "%matplotlib notebook \n",
    "%load_ext autoreload\n",
    "%autoreload 2"
   ]
  },
  {
   "cell_type": "code",
   "execution_count": null,
   "metadata": {},
   "outputs": [],
   "source": [
    "import sys\n",
    "import os\n",
    "\n",
    "module_path = os.path.abspath(os.path.join('..'))\n",
    "if module_path not in sys.path:\n",
    "    sys.path.append(module_path)\n",
    "    \n",
    "from src import constants as c\n",
    "from src.model import VAE\n",
    "from src import visualization as v\n",
    "\n",
    "from matplotlib import pyplot as plt\n",
    "from mpl_toolkits.mplot3d import Axes3D\n",
    "import numpy as np\n",
    "import pandas as pd\n",
    "from sklearn import decomposition, manifold\n",
    "\n",
    "from tqdm import tqdm, tnrange, tqdm_notebook"
   ]
  },
  {
   "cell_type": "code",
   "execution_count": null,
   "metadata": {},
   "outputs": [],
   "source": [
    "import torch\n",
    "from torchvision import datasets, transforms"
   ]
  },
  {
   "cell_type": "code",
   "execution_count": null,
   "metadata": {},
   "outputs": [],
   "source": [
    "data_transforms = transforms.Compose([\n",
    "    transforms.Resize(c.image_size),\n",
    "    transforms.CenterCrop(c.image_size),\n",
    "    transforms.ToTensor()\n",
    "])\n",
    "\n",
    "image_datasets = {x: datasets.ImageFolder(os.path.join(c.data_home, 'surgical_data/',x),\n",
    "                                          data_transforms)\n",
    "                  for x in ['train', 'val']}\n",
    "dataloaders = {x: torch.utils.data.DataLoader(image_datasets[x], \n",
    "                                              batch_size=c.batch_size,\n",
    "                                              shuffle=True)\n",
    "               for x in ['train', 'val']}"
   ]
  },
  {
   "cell_type": "code",
   "execution_count": null,
   "metadata": {},
   "outputs": [],
   "source": [
    "models = {zdim: VAE(image_channels=c.image_channels,\n",
    "                    image_size=c.image_size, \n",
    "                    h_dim1=1024,\n",
    "                    h_dim2=128,\n",
    "                    zdim=zdim).to(c.device) for zdim in [10]}"
   ]
  },
  {
   "cell_type": "code",
   "execution_count": null,
   "metadata": {},
   "outputs": [],
   "source": [
    "for zdim, model in models.items():\n",
    "    model.load_state_dict(torch.load(c.data_home + \"weights/tools_vae_{}_epoch_50_zdim_{}.torch\".format(c.image_size,\n",
    "                                                                                                        zdim)))"
   ]
  },
  {
   "cell_type": "code",
   "execution_count": null,
   "metadata": {},
   "outputs": [],
   "source": [
    "labels = pd.read_csv(os.path.join(c.data_home, 'surgical_data/', 'surgical_labels.csv'))"
   ]
  },
  {
   "cell_type": "code",
   "execution_count": null,
   "metadata": {},
   "outputs": [],
   "source": [
    "encoded_inputs = {zdim: [] for zdim in [10]}\n",
    "\n",
    "with torch.no_grad():\n",
    "    for zdim in tqdm_notebook(encoded_inputs):\n",
    "        for index in tnrange(len(image_datasets['train'])):\n",
    "            data = image_datasets['train'][index][0].view(-1, c.image_channels, c.image_size, c.image_size).to(c.device)\n",
    "            latent_vector = models[zdim].sampling(*models[zdim].encode(data)).cpu().detach().numpy()\n",
    "            encoded_inputs[zdim].extend([ar[0] for ar in np.split(latent_vector, data.shape[0])])\n",
    "            \n",
    "        for index in tnrange(len(image_datasets['val'])):\n",
    "            data = image_datasets['val'][index][0].view(-1, c.image_channels, c.image_size, c.image_size).to(c.device)\n",
    "            latent_vector = models[zdim].sampling(*models[zdim].encode(data)).cpu().detach().numpy()\n",
    "            encoded_inputs[zdim].extend([ar[0] for ar in np.split(latent_vector, data.shape[0])])"
   ]
  },
  {
   "cell_type": "code",
   "execution_count": null,
   "metadata": {},
   "outputs": [],
   "source": [
    "dataframes = {zdim: pd.concat([pd.DataFrame(encoded_inputs[zdim]), labels], axis=1) for zdim in [10]}"
   ]
  },
  {
   "cell_type": "code",
   "execution_count": null,
   "metadata": {},
   "outputs": [],
   "source": [
    "latent_space = pd.concat(dataframes)\n",
    "latent_space.head()"
   ]
  },
  {
   "cell_type": "code",
   "execution_count": null,
   "metadata": {},
   "outputs": [],
   "source": [
    "for zdim, d in dataframes.items():\n",
    "    d.to_csv(os.path.join(c.data_home, 'dataframes', 'encoded_inputs_{}_epoch_50_zdim_{}.csv'.format(c.image_size,\n",
    "                                                                                                 zdim\n",
    "                                                                                                )))"
   ]
  },
  {
   "cell_type": "code",
   "execution_count": null,
   "metadata": {},
   "outputs": [],
   "source": [
    "for zdim in [10]:\n",
    "    components=5\n",
    "    pca = decomposition.PCA(n_components=components)\n",
    "    pca_result = pca.fit_transform(latent_space.loc[zdim][[0,1,2,3,4]].values)\n",
    "    for i in range(components):\n",
    "        latent_space.loc[zdim,'pc{}'.format(i+1)] = pca_result[:,i]\n",
    "    print('z={}:\\tExplained variation per principal component: {} {}'.format(zdim, sum(pca.explained_variance_ratio_),pca.explained_variance_ratio_))"
   ]
  },
  {
   "cell_type": "code",
   "execution_count": null,
   "metadata": {},
   "outputs": [],
   "source": [
    "fig = v.plot_pca(5, latent_space.loc[10])\n",
    "fig.savefig('./pca_zdim_10.png')"
   ]
  },
  {
   "cell_type": "code",
   "execution_count": null,
   "metadata": {},
   "outputs": [],
   "source": [
    "for zdim in [10]:\n",
    "    tsne_result = manifold.TSNE(n_components=2).fit_transform(latent_space.loc[zdim][[0,1,2,3,4]])\n",
    "    latent_space.loc[zdim, 'tsne1'] = tsne_result[:,0]\n",
    "    latent_space.loc[zdim, 'tsne2'] = tsne_result[:,1]"
   ]
  },
  {
   "cell_type": "code",
   "execution_count": null,
   "metadata": {},
   "outputs": [],
   "source": [
    "fig = plt.figure()\n",
    "ax = fig.add_subplot(111)\n",
    "scatter = ax.scatter(latent_space.loc[10]['tsne1'], latent_space.loc[10]['tsne2'], c=latent_space.loc[10]['Tool'], cmap='bwr', alpha=0.2)\n",
    "plt.show()"
   ]
  },
  {
   "cell_type": "code",
   "execution_count": null,
   "metadata": {},
   "outputs": [],
   "source": [
    "fig, ax = plt.subplots()\n",
    "v.imscatter(latent_space.loc[10]['tsne1'], \n",
    "          latent_space.loc[10]['tsne2'], \n",
    "          data=image_datasets['train'], \n",
    "          ax=ax, \n",
    "          zoom=0.25)\n",
    "\n",
    "plt.show()"
   ]
  },
  {
   "cell_type": "code",
   "execution_count": null,
   "metadata": {},
   "outputs": [],
   "source": []
  }
 ],
 "metadata": {
  "kernelspec": {
   "display_name": "Python 3",
   "language": "python",
   "name": "python3"
  },
  "language_info": {
   "codemirror_mode": {
    "name": "ipython",
    "version": 3
   },
   "file_extension": ".py",
   "mimetype": "text/x-python",
   "name": "python",
   "nbconvert_exporter": "python",
   "pygments_lexer": "ipython3",
   "version": "3.6.5"
  }
 },
 "nbformat": 4,
 "nbformat_minor": 2
}
