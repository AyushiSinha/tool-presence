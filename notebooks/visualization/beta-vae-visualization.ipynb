{
 "cells": [
  {
   "cell_type": "code",
   "execution_count": null,
   "metadata": {},
   "outputs": [],
   "source": [
    "%load_ext autoreload\n",
    "%autoreload 2"
   ]
  },
  {
   "cell_type": "code",
   "execution_count": null,
   "metadata": {},
   "outputs": [],
   "source": [
    "import numpy as np\n",
    "import pandas as pd\n",
    "\n",
    "import torch\n",
    "from torch.utils.data import Dataset, DataLoader\n",
    "\n",
    "import torchvision\n",
    "from torchvision import datasets, transforms\n",
    "\n",
    "from tqdm import tqdm_notebook, tnrange\n",
    "\n",
    "from sklearn import decomposition, manifold"
   ]
  },
  {
   "cell_type": "code",
   "execution_count": null,
   "metadata": {},
   "outputs": [],
   "source": [
    "import sys\n",
    "import os\n",
    "\n",
    "module_path = os.path.abspath(os.path.join('/users/dli44/tool-presence'))\n",
    "if module_path not in sys.path:\n",
    "    sys.path.append(module_path)\n",
    "    \n",
    "from src import constants as c\n",
    "# from src.model import VAE\n",
    "from src.model import loss_function\n",
    "from src import visualization as v\n",
    "from src import utils"
   ]
  },
  {
   "cell_type": "code",
   "execution_count": null,
   "metadata": {},
   "outputs": [],
   "source": [
    "data_transforms = transforms.Compose([\n",
    "    transforms.Resize(c.image_size),\n",
    "    transforms.CenterCrop(c.image_size),\n",
    "#     transforms.RandomHorizontalFlip(), #Trying dataset augmentation\n",
    "#     transforms.RandomAffine(15),\n",
    "    transforms.ToTensor()\n",
    "])\n",
    "\n",
    "image_datasets = {x: datasets.ImageFolder(os.path.join(c.data_home, 'surgical_data', x),\n",
    "                                          data_transforms)\n",
    "                  for x in ['train', 'val']}\n",
    "dataloaders = {x: torch.utils.data.DataLoader(image_datasets[x], \n",
    "                                              batch_size=c.batch_size,\n",
    "                                              shuffle=True)\n",
    "               for x in ['train', 'val']}"
   ]
  },
  {
   "cell_type": "code",
   "execution_count": null,
   "metadata": {},
   "outputs": [],
   "source": [
    "import torch.nn as nn\n",
    "import torch.nn.functional as F\n",
    "\n",
    "class VAE_1fc(nn.Module):\n",
    "    def __init__(self, image_channels, image_size, h_dim2, zdim, conv_channels=[16, 16]):\n",
    "        super(VAE_1fc, self).__init__()\n",
    "\n",
    "        self.image_channels = image_channels\n",
    "        self.image_size = image_size\n",
    "        self.h_dim2 = h_dim2\n",
    "        self.zdim = zdim\n",
    "        self.conv_channels = conv_channels\n",
    "        \n",
    "        # Encoder\n",
    "        self.conv1 = nn.Conv2d(image_channels, conv_channels[0], kernel_size=3, stride=1, padding=1, bias=False)\n",
    "        self.conv2 = nn.Conv2d(conv_channels[0], conv_channels[1], kernel_size=3, stride=1, padding=1, bias=False)\n",
    "        self.pool1 = nn.MaxPool2d(2)\n",
    "        \n",
    "        # Latent vectors\n",
    "        self.fc1 = nn.Linear(image_size//2 * image_size//2 * conv_channels[1], h_dim2)\n",
    "        self.fc31 = nn.Linear(h_dim2, zdim)\n",
    "        self.fc32 = nn.Linear(h_dim2, zdim)\n",
    "        \n",
    "        # Decoder\n",
    "        self.fc3 = nn.Linear(zdim, h_dim2)\n",
    "        self.fc5 = nn.Linear(h_dim2, image_size//2 * image_size//2 * conv_channels[1])\n",
    "        \n",
    "        self.conv3 = nn.ConvTranspose2d(conv_channels[1], conv_channels[0], kernel_size=3, stride=1, padding=1, bias=False)\n",
    "        self.conv4 = nn.ConvTranspose2d(conv_channels[0], image_channels, kernel_size=3, stride=1, padding=1, bias=False)\n",
    "\n",
    "    def sampling(self, mu, log_var):\n",
    "        std = torch.exp(0.5*log_var)\n",
    "        eps = torch.randn_like(std)\n",
    "        return eps.mul(std).add_(mu) # return z sample\n",
    "    \n",
    "    def encode(self, x):\n",
    "        x = F.relu(self.conv1(x))\n",
    "        x = self.conv2(x)\n",
    "        x = F.dropout(self.pool1(x))\n",
    "        x = x.view(-1, self.image_size//2 * self.image_size//2 * self.conv_channels[-1])\n",
    "        x = F.relu(self.fc1(x))\n",
    "        return self.fc31(x), self.fc32(x)\n",
    "    \n",
    "    def decode(self, z):\n",
    "        z = F.relu(self.fc3(z))\n",
    "        z = F.relu(self.fc5(z))\n",
    "        z = z.view(-1, self.conv_channels[-1], self.image_size//2, self.image_size//2)\n",
    "        z = F.interpolate(z, scale_factor=2)       \n",
    "        z = F.relu(self.conv3(z))\n",
    "        z = torch.sigmoid(self.conv4(z))\n",
    "        return z\n",
    "    \n",
    "    def forward(self, x):\n",
    "        mu, log_var = self.encode(x)\n",
    "        z = self.sampling(mu, log_var)\n",
    "        return self.decode(z), mu, log_var"
   ]
  },
  {
   "cell_type": "code",
   "execution_count": null,
   "metadata": {},
   "outputs": [],
   "source": [
    "model = VAE_1fc(image_channels=c.image_channels,\n",
    "                    image_size=c.image_size, \n",
    "                    h_dim2=128,\n",
    "                    zdim=64).to(c.device)"
   ]
  },
  {
   "cell_type": "code",
   "execution_count": null,
   "metadata": {},
   "outputs": [],
   "source": [
    "model.load_state_dict(torch.load(c.data_home + \"weights/beta_vae/1fc/beta_100_vae_64_epoch_50_zdim_64.torch\"))"
   ]
  },
  {
   "cell_type": "code",
   "execution_count": null,
   "metadata": {},
   "outputs": [],
   "source": [
    "labels = pd.read_csv(os.path.join(c.data_home, 'surgical_data/', 'surgical_labels.csv'))"
   ]
  },
  {
   "cell_type": "code",
   "execution_count": null,
   "metadata": {},
   "outputs": [],
   "source": [
    "dataframes = {beta: pd.concat([pd.DataFrame(encoded_inputs[beta]), labels], axis=1) for beta in [5]}"
   ]
  },
  {
   "cell_type": "code",
   "execution_count": null,
   "metadata": {},
   "outputs": [],
   "source": [
    "components=3\n",
    "pca = decomposition.PCA(n_components=components)\n",
    "pca_result = pca.fit_transform(dataframes[beta].loc[:][list(range(64))].values)\n",
    "for i in range(components):\n",
    "    dataframes[beta]['pc{}'.format(i+1)] = pca_result[:,i]\n",
    "print('beta={}:\\tExplained variation per principal component: {} {}'.format(beta, sum(pca.explained_variance_ratio_),pca.explained_variance_ratio_))"
   ]
  },
  {
   "cell_type": "markdown",
   "metadata": {},
   "source": [
    "## Rob's suggestions"
   ]
  },
  {
   "cell_type": "code",
   "execution_count": null,
   "metadata": {},
   "outputs": [],
   "source": [
    "import matplotlib.pyplot as plt"
   ]
  },
  {
   "cell_type": "code",
   "execution_count": null,
   "metadata": {},
   "outputs": [],
   "source": [
    "fig = plt.figure()\n",
    "plt.title(\"Initial Images\\nStart, End\")\n",
    "plt.imshow(np.hstack([image_datasets['val'][1][0].numpy().transpose(1,2,0), \n",
    "                      image_datasets['val'][9][0].numpy().transpose(1,2,0)]))"
   ]
  },
  {
   "cell_type": "code",
   "execution_count": null,
   "metadata": {},
   "outputs": [],
   "source": [
    "fig = plt.figure()\n",
    "recon1, _, _ = model(image_datasets['val'][1][0].unsqueeze(0).to(c.device))\n",
    "recon2, _, _ = model(image_datasets['val'][9][0].unsqueeze(0).to(c.device))\n",
    "\n",
    "recon1 = utils.torch_to_numpy(recon1)\n",
    "recon2 = utils.torch_to_numpy(recon2)\n",
    "\n",
    "originals = np.hstack([utils.torch_to_numpy(image_datasets['val'][1][0]), \n",
    "                       utils.torch_to_numpy(image_datasets['val'][9][0])])\n",
    "recons = np.hstack([recon1, recon2])\n",
    "\n",
    "plt.imshow(np.vstack([originals, recons]))"
   ]
  },
  {
   "cell_type": "code",
   "execution_count": null,
   "metadata": {},
   "outputs": [],
   "source": [
    "images = v.latent_interpolation(image_datasets['val'][1][0], \n",
    "                                image_datasets['val'][9][0], \n",
    "                                model=model)\n",
    "\n",
    "fig = v.plot_interpolation(images, \"Interpolation\\nBeta=100\")\n",
    "# fig, ax = plt.subplots(1,10, figsize=(10,2),\n",
    "#                        frameon=False,gridspec_kw={'wspace':0.05, 'width_ratios':[1.25,1,1,1,1,1,1,1,1,1.25]})\n",
    "# for i in range(10):\n",
    "#     ax[i].imshow(images[i])\n",
    "#     ax[i].axis('off')\n",
    "# ax[0].set_title(\"Start\")\n",
    "# ax[-1].set_title(\"End\")\n",
    "\n",
    "plt.savefig(os.path.join(c.data_home,\n",
    "                         'figures',\n",
    "                         'augmentation_1fc',\n",
    "                         'beta_100_tool_motion.png'), bbox_inches='tight', dpi=400, pad_inches=0.0)"
   ]
  },
  {
   "cell_type": "code",
   "execution_count": null,
   "metadata": {},
   "outputs": [],
   "source": [
    "a = v.get_latent_vector(image_datasets['train'][85][0], models[5]).cpu().detach().numpy()\n",
    "b = v.get_latent_vector(image_datasets['train'][180][0], models[5]).cpu().detach().numpy()\n",
    "diff = a-b"
   ]
  },
  {
   "cell_type": "code",
   "execution_count": null,
   "metadata": {},
   "outputs": [],
   "source": [
    "fig = plt.figure()\n",
    "plt.plot(a[0])\n",
    "plt.plot(b[0])\n",
    "# plt.plot(diff[0])"
   ]
  },
  {
   "cell_type": "code",
   "execution_count": null,
   "metadata": {},
   "outputs": [],
   "source": [
    "np.abs(diff)"
   ]
  },
  {
   "cell_type": "code",
   "execution_count": null,
   "metadata": {},
   "outputs": [],
   "source": [
    "fig = plt.figure()\n",
    "plt.title(\"Initial Images\\nStart, End\")\n",
    "plt.imshow(np.hstack([image_datasets['train'][360][0].numpy().transpose(1,2,0), \n",
    "                      image_datasets['train'][368][0].numpy().transpose(1,2,0)]))"
   ]
  },
  {
   "cell_type": "code",
   "execution_count": null,
   "metadata": {},
   "outputs": [],
   "source": [
    "images = v.latent_interpolation(image_datasets['train'][360][0], image_datasets['train'][368][0], model=models[5])\n",
    "\n",
    "# fig = v.plot_interpolation(images)\n",
    "fig, ax = plt.subplots(1,10, figsize=(10,2),\n",
    "                       frameon=False,gridspec_kw={'wspace':0.05, 'width_ratios':[1.25,1,1,1,1,1,1,1,1,1.25]})\n",
    "for i in range(10):\n",
    "    ax[i].imshow(images[i])\n",
    "    ax[i].axis('off')\n",
    "ax[0].set_title(\"Start\")\n",
    "ax[-1].set_title(\"End\")\n",
    "\n",
    "# plt.savefig(os.path.join(data_home,'figures','tool_different_anatomy_similar.png'), bbox_inches='tight', dpi=400, pad_inches=0.0)"
   ]
  },
  {
   "cell_type": "code",
   "execution_count": null,
   "metadata": {},
   "outputs": [],
   "source": []
  }
 ],
 "metadata": {
  "kernelspec": {
   "display_name": "Python 3",
   "language": "python",
   "name": "python3"
  },
  "language_info": {
   "codemirror_mode": {
    "name": "ipython",
    "version": 3
   },
   "file_extension": ".py",
   "mimetype": "text/x-python",
   "name": "python",
   "nbconvert_exporter": "python",
   "pygments_lexer": "ipython3",
   "version": "3.6.8"
  }
 },
 "nbformat": 4,
 "nbformat_minor": 2
}
