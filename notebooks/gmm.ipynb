{
 "cells": [
  {
   "cell_type": "code",
   "execution_count": null,
   "metadata": {},
   "outputs": [],
   "source": [
    "%matplotlib inline\n",
    "%load_ext autoreload\n",
    "%autoreload 2"
   ]
  },
  {
   "cell_type": "code",
   "execution_count": null,
   "metadata": {},
   "outputs": [],
   "source": [
    "import argparse\n",
    "import os\n",
    "import sys\n",
    "import numpy as np\n",
    "import torch\n",
    "from matplotlib import pyplot as plt\n",
    "import pandas as pd"
   ]
  },
  {
   "cell_type": "code",
   "execution_count": null,
   "metadata": {},
   "outputs": [],
   "source": [
    "module_path = os.path.abspath(os.path.join('/users/dli44/tool-presence'))\n",
    "if module_path not in sys.path:\n",
    "    sys.path.append(module_path)\n",
    "\n",
    "from src import constants as c\n",
    "from src import utils\n",
    "from src import visualization as v\n",
    "from src import model as m"
   ]
  },
  {
   "cell_type": "code",
   "execution_count": null,
   "metadata": {},
   "outputs": [],
   "source": [
    "parser = utils.setup_argparse()\n",
    "args = parser.parse_args(args=['--root=/users/dli44/tool-presence/',\n",
    "                               '--data-dir=data/youtube_data/',\n",
    "                               '--image-size=64',\n",
    "                               '--loss-function=mmd',\n",
    "                               '-a'\n",
    "                              ])"
   ]
  },
  {
   "cell_type": "code",
   "execution_count": null,
   "metadata": {},
   "outputs": [],
   "source": [
    "datasets, dataloaders = utils.setup_data(args)"
   ]
  },
  {
   "cell_type": "code",
   "execution_count": null,
   "metadata": {},
   "outputs": [],
   "source": [
    "load_model = True\n",
    "model_name = \"mmd_beta_1.0_epoch_50.torch\"\n",
    "model_path = os.path.join(args.root, 'data/mmd_vae', model_name)"
   ]
  },
  {
   "cell_type": "code",
   "execution_count": null,
   "metadata": {},
   "outputs": [],
   "source": [
    "model = m.VAE(image_channels=args.image_channels,\n",
    "              image_size=args.image_size,\n",
    "              h_dim1=1024,\n",
    "              h_dim2=128,\n",
    "              zdim=64).to(c.device)"
   ]
  },
  {
   "cell_type": "code",
   "execution_count": null,
   "metadata": {},
   "outputs": [],
   "source": [
    "model.load_state_dict(torch.load(model_path))"
   ]
  },
  {
   "cell_type": "code",
   "execution_count": null,
   "metadata": {},
   "outputs": [],
   "source": [
    "labels = pd.read_csv(os.path.join(c.data_home, 'youtube_data/', 'surgical_labels.csv'))"
   ]
  },
  {
   "cell_type": "code",
   "execution_count": null,
   "metadata": {},
   "outputs": [],
   "source": [
    "encoded_inputs = {zdim: [] for zdim in args.z_dim.split(',')}\n",
    "\n",
    "with torch.no_grad():\n",
    "    for zdim in encoded_inputs:\n",
    "        for index in range(len(datasets['train'])):\n",
    "            data = datasets['train'][index][0].view(-1, args.image_channels, args.image_size, args.image_size).to(c.device)\n",
    "            latent_vector = model.sampling(*model.encode(data)).cpu().detach().numpy()\n",
    "            encoded_inputs[zdim].extend([ar[0] for ar in np.split(latent_vector, data.shape[0])])\n",
    "            \n",
    "        for index in range(len(datasets['val'])):\n",
    "            data = datasets['val'][index][0].view(-1, args.image_channels, args.image_size, args.image_size).to(c.device)\n",
    "            latent_vector = model.sampling(*model.encode(data)).cpu().detach().numpy()\n",
    "            encoded_inputs[zdim].extend([ar[0] for ar in np.split(latent_vector, data.shape[0])])"
   ]
  },
  {
   "cell_type": "code",
   "execution_count": null,
   "metadata": {},
   "outputs": [],
   "source": [
    "latent_space = pd.concat([pd.DataFrame(encoded_inputs['64']), labels], axis=1)\n",
    "latent_space.loc[:,list(range(64))]"
   ]
  },
  {
   "cell_type": "code",
   "execution_count": null,
   "metadata": {},
   "outputs": [],
   "source": [
    "from sklearn.decomposition import PCA\n",
    "\n",
    "pca = PCA(0.99, whiten=True)\n",
    "data = pca.fit_transform(latent_space.loc[:,list(range(64))])\n",
    "data.shape"
   ]
  },
  {
   "cell_type": "code",
   "execution_count": null,
   "metadata": {},
   "outputs": [],
   "source": [
    "data"
   ]
  },
  {
   "cell_type": "code",
   "execution_count": null,
   "metadata": {},
   "outputs": [],
   "source": [
    "from sklearn.mixture import GaussianMixture as GMM\n",
    "\n",
    "n_components = np.arange(50, 1000, 50)\n",
    "models = [GMM(n, covariance_type='full', random_state=0)\n",
    "          for n in n_components]\n",
    "aics = [model.fit(data).aic(data) for model in models]\n",
    "plt.plot(n_components, aics);"
   ]
  },
  {
   "cell_type": "code",
   "execution_count": null,
   "metadata": {},
   "outputs": [],
   "source": [
    "gmm = GMM(2, covariance_type='full', random_state=0)\n",
    "gmm.fit(data)"
   ]
  },
  {
   "cell_type": "code",
   "execution_count": null,
   "metadata": {},
   "outputs": [],
   "source": [
    "gmm.predict(latent_space.loc[:,:64])"
   ]
  },
  {
   "cell_type": "code",
   "execution_count": null,
   "metadata": {},
   "outputs": [],
   "source": [
    "for (idx, row) in latent_space.iterrows():\n",
    "    transformed_row = pca.transform(row[:64].values.reshape(-1,1))\n",
    "    print(gmm.predict_proba(transformed_row))\n",
    "    break"
   ]
  },
  {
   "cell_type": "code",
   "execution_count": null,
   "metadata": {},
   "outputs": [],
   "source": []
  }
 ],
 "metadata": {
  "kernelspec": {
   "display_name": "Python 3",
   "language": "python",
   "name": "python3"
  },
  "language_info": {
   "codemirror_mode": {
    "name": "ipython",
    "version": 3
   },
   "file_extension": ".py",
   "mimetype": "text/x-python",
   "name": "python",
   "nbconvert_exporter": "python",
   "pygments_lexer": "ipython3",
   "version": "3.6.8"
  }
 },
 "nbformat": 4,
 "nbformat_minor": 2
}
